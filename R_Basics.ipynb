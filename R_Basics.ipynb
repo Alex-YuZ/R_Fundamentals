{
 "cells": [
  {
   "cell_type": "markdown",
   "metadata": {},
   "source": [
    "# R Foundamentals\n",
    "\n",
    "**Table of Contents**\n",
    "- [Syntax and Data Types](#chapter1)\n",
    "- [Control Flow and Functions](#chapter2)\n",
    "- [Data Visualization and EDA](#chapter3)"
   ]
  },
  {
   "cell_type": "markdown",
   "metadata": {},
   "source": [
    "<a id='chapter1'></a>\n",
    "## Syntax and Data Types\n",
    "\n",
    "- [I. Chracters](#character)\n",
    "- [II. Numerics](#numeric)\n",
    "- [III. Logicals](#logic)\n",
    "- [IV. Data Type Conversion](#conversion)\n",
    "- [V. Vectors](#vector)\n",
    "- [VI. Seq](#seq)\n",
    "- [VII. Rep](#rep)\n",
    "- [VIII. Any, All, Which](#any_all_which)\n",
    "- [IX. `subset()` 按条件切片](#subset)\n",
    "- [X. 数组与切片](#matrix_cut)\n",
    "- [XI. 数组运算](#matrix_calc)\n",
    "- [XII. DataFrame](#df)"
   ]
  },
  {
   "cell_type": "markdown",
   "metadata": {},
   "source": [
    "<a id='character'></a>\n",
    "**I. Characters**"
   ]
  },
  {
   "cell_type": "code",
   "execution_count": 22,
   "metadata": {},
   "outputs": [
    {
     "data": {
      "text/html": [
       "'character'"
      ],
      "text/latex": [
       "'character'"
      ],
      "text/markdown": [
       "'character'"
      ],
      "text/plain": [
       "[1] \"character\""
      ]
     },
     "metadata": {},
     "output_type": "display_data"
    }
   ],
   "source": [
    "class(\"Hello\")"
   ]
  },
  {
   "cell_type": "code",
   "execution_count": 23,
   "metadata": {},
   "outputs": [
    {
     "data": {
      "text/html": [
       "'character'"
      ],
      "text/latex": [
       "'character'"
      ],
      "text/markdown": [
       "'character'"
      ],
      "text/plain": [
       "[1] \"character\""
      ]
     },
     "metadata": {},
     "output_type": "display_data"
    }
   ],
   "source": [
    "class(\"world\")"
   ]
  },
  {
   "cell_type": "code",
   "execution_count": 24,
   "metadata": {},
   "outputs": [
    {
     "data": {
      "text/html": [
       "'character'"
      ],
      "text/latex": [
       "'character'"
      ],
      "text/markdown": [
       "'character'"
      ],
      "text/plain": [
       "[1] \"character\""
      ]
     },
     "metadata": {},
     "output_type": "display_data"
    }
   ],
   "source": [
    "class('')"
   ]
  },
  {
   "cell_type": "markdown",
   "metadata": {},
   "source": [
    "<a id='numeric'></a>\n",
    "**II. Numerics**"
   ]
  },
  {
   "cell_type": "code",
   "execution_count": 19,
   "metadata": {},
   "outputs": [
    {
     "data": {
      "text/html": [
       "'numeric'"
      ],
      "text/latex": [
       "'numeric'"
      ],
      "text/markdown": [
       "'numeric'"
      ],
      "text/plain": [
       "[1] \"numeric\""
      ]
     },
     "metadata": {},
     "output_type": "display_data"
    }
   ],
   "source": [
    "class(1.2)"
   ]
  },
  {
   "cell_type": "code",
   "execution_count": 20,
   "metadata": {},
   "outputs": [
    {
     "data": {
      "text/html": [
       "'numeric'"
      ],
      "text/latex": [
       "'numeric'"
      ],
      "text/markdown": [
       "'numeric'"
      ],
      "text/plain": [
       "[1] \"numeric\""
      ]
     },
     "metadata": {},
     "output_type": "display_data"
    }
   ],
   "source": [
    "class(5)"
   ]
  },
  {
   "cell_type": "code",
   "execution_count": 21,
   "metadata": {},
   "outputs": [
    {
     "data": {
      "text/html": [
       "'numeric'"
      ],
      "text/latex": [
       "'numeric'"
      ],
      "text/markdown": [
       "'numeric'"
      ],
      "text/plain": [
       "[1] \"numeric\""
      ]
     },
     "metadata": {},
     "output_type": "display_data"
    }
   ],
   "source": [
    "class(-5.5)"
   ]
  },
  {
   "cell_type": "markdown",
   "metadata": {},
   "source": [
    "<a id='logic'></a>\n",
    "**III. Logicals**"
   ]
  },
  {
   "cell_type": "code",
   "execution_count": 25,
   "metadata": {
    "graffitiCellId": "id_lmpjyd5"
   },
   "outputs": [
    {
     "data": {
      "text/html": [
       "'logical'"
      ],
      "text/latex": [
       "'logical'"
      ],
      "text/markdown": [
       "'logical'"
      ],
      "text/plain": [
       "[1] \"logical\""
      ]
     },
     "metadata": {},
     "output_type": "display_data"
    }
   ],
   "source": [
    "class(TRUE)"
   ]
  },
  {
   "cell_type": "code",
   "execution_count": 26,
   "metadata": {
    "graffitiCellId": "id_qegb15y"
   },
   "outputs": [
    {
     "data": {
      "text/html": [
       "'logical'"
      ],
      "text/latex": [
       "'logical'"
      ],
      "text/markdown": [
       "'logical'"
      ],
      "text/plain": [
       "[1] \"logical\""
      ]
     },
     "metadata": {},
     "output_type": "display_data"
    }
   ],
   "source": [
    "class(FALSE)"
   ]
  },
  {
   "cell_type": "code",
   "execution_count": 27,
   "metadata": {},
   "outputs": [
    {
     "ename": "ERROR",
     "evalue": "Error in eval(expr, envir, enclos): object 'True' not found\n",
     "output_type": "error",
     "traceback": [
      "Error in eval(expr, envir, enclos): object 'True' not found\nTraceback:\n"
     ]
    }
   ],
   "source": [
    "class(True)"
   ]
  },
  {
   "cell_type": "markdown",
   "metadata": {},
   "source": [
    "<a id='conversion'></a>\n",
    "**IV. Data Type Conversion**"
   ]
  },
  {
   "cell_type": "code",
   "execution_count": 29,
   "metadata": {},
   "outputs": [
    {
     "data": {
      "text/html": [
       "FALSE"
      ],
      "text/latex": [
       "FALSE"
      ],
      "text/markdown": [
       "FALSE"
      ],
      "text/plain": [
       "[1] FALSE"
      ]
     },
     "metadata": {},
     "output_type": "display_data"
    }
   ],
   "source": [
    "as.logical(0)"
   ]
  },
  {
   "cell_type": "code",
   "execution_count": 32,
   "metadata": {},
   "outputs": [
    {
     "data": {
      "text/html": [
       "TRUE"
      ],
      "text/latex": [
       "TRUE"
      ],
      "text/markdown": [
       "TRUE"
      ],
      "text/plain": [
       "[1] TRUE"
      ]
     },
     "metadata": {},
     "output_type": "display_data"
    }
   ],
   "source": [
    "# 非零数转换成布尔值均为TRUE\n",
    "as.logical(5)"
   ]
  },
  {
   "cell_type": "code",
   "execution_count": 33,
   "metadata": {},
   "outputs": [
    {
     "data": {
      "text/html": [
       "&lt;NA&gt;"
      ],
      "text/latex": [
       "<NA>"
      ],
      "text/markdown": [
       "&lt;NA&gt;"
      ],
      "text/plain": [
       "[1] NA"
      ]
     },
     "metadata": {},
     "output_type": "display_data"
    }
   ],
   "source": [
    "as.logical('hello')"
   ]
  },
  {
   "cell_type": "code",
   "execution_count": 37,
   "metadata": {},
   "outputs": [
    {
     "data": {
      "text/html": [
       "'character'"
      ],
      "text/latex": [
       "'character'"
      ],
      "text/markdown": [
       "'character'"
      ],
      "text/plain": [
       "[1] \"character\""
      ]
     },
     "metadata": {},
     "output_type": "display_data"
    }
   ],
   "source": [
    "a = \"1.2\"\n",
    "class(a)"
   ]
  },
  {
   "cell_type": "code",
   "execution_count": 38,
   "metadata": {},
   "outputs": [
    {
     "data": {
      "text/html": [
       "'integer'"
      ],
      "text/latex": [
       "'integer'"
      ],
      "text/markdown": [
       "'integer'"
      ],
      "text/plain": [
       "[1] \"integer\""
      ]
     },
     "metadata": {},
     "output_type": "display_data"
    }
   ],
   "source": [
    "b = as.integer(a)\n",
    "class(b)"
   ]
  },
  {
   "cell_type": "code",
   "execution_count": 39,
   "metadata": {},
   "outputs": [
    {
     "data": {
      "text/html": [
       "2"
      ],
      "text/latex": [
       "2"
      ],
      "text/markdown": [
       "2"
      ],
      "text/plain": [
       "[1] 2"
      ]
     },
     "metadata": {},
     "output_type": "display_data"
    }
   ],
   "source": [
    "as.integer(2.2)"
   ]
  },
  {
   "cell_type": "markdown",
   "metadata": {},
   "source": [
    "<a id='vector'></a>\n",
    "**V. Vectors**\n",
    "\n",
    "syntax:\n",
    "\n",
    "```\n",
    "vector(mode=, length=)\n",
    "```"
   ]
  },
  {
   "cell_type": "code",
   "execution_count": 40,
   "metadata": {},
   "outputs": [
    {
     "data": {
      "text/html": [
       "<ol class=list-inline>\n",
       "\t<li>FALSE</li>\n",
       "\t<li>FALSE</li>\n",
       "</ol>\n"
      ],
      "text/latex": [
       "\\begin{enumerate*}\n",
       "\\item FALSE\n",
       "\\item FALSE\n",
       "\\end{enumerate*}\n"
      ],
      "text/markdown": [
       "1. FALSE\n",
       "2. FALSE\n",
       "\n",
       "\n"
      ],
      "text/plain": [
       "[1] FALSE FALSE"
      ]
     },
     "metadata": {},
     "output_type": "display_data"
    }
   ],
   "source": [
    "vector('logical', 2)"
   ]
  },
  {
   "cell_type": "code",
   "execution_count": 41,
   "metadata": {},
   "outputs": [
    {
     "data": {
      "text/html": [
       "<ol class=list-inline>\n",
       "\t<li>0</li>\n",
       "\t<li>0</li>\n",
       "\t<li>0</li>\n",
       "</ol>\n"
      ],
      "text/latex": [
       "\\begin{enumerate*}\n",
       "\\item 0\n",
       "\\item 0\n",
       "\\item 0\n",
       "\\end{enumerate*}\n"
      ],
      "text/markdown": [
       "1. 0\n",
       "2. 0\n",
       "3. 0\n",
       "\n",
       "\n"
      ],
      "text/plain": [
       "[1] 0 0 0"
      ]
     },
     "metadata": {},
     "output_type": "display_data"
    }
   ],
   "source": [
    "vector('numeric', 3)"
   ]
  },
  {
   "cell_type": "code",
   "execution_count": 42,
   "metadata": {},
   "outputs": [
    {
     "data": {
      "text/html": [
       "<ol class=list-inline>\n",
       "\t<li>''</li>\n",
       "\t<li>''</li>\n",
       "\t<li>''</li>\n",
       "\t<li>''</li>\n",
       "\t<li>''</li>\n",
       "</ol>\n"
      ],
      "text/latex": [
       "\\begin{enumerate*}\n",
       "\\item ''\n",
       "\\item ''\n",
       "\\item ''\n",
       "\\item ''\n",
       "\\item ''\n",
       "\\end{enumerate*}\n"
      ],
      "text/markdown": [
       "1. ''\n",
       "2. ''\n",
       "3. ''\n",
       "4. ''\n",
       "5. ''\n",
       "\n",
       "\n"
      ],
      "text/plain": [
       "[1] \"\" \"\" \"\" \"\" \"\""
      ]
     },
     "metadata": {},
     "output_type": "display_data"
    }
   ],
   "source": [
    "vector('character', 5)"
   ]
  },
  {
   "cell_type": "code",
   "execution_count": 45,
   "metadata": {},
   "outputs": [
    {
     "data": {
      "text/html": [
       "<ol class=list-inline>\n",
       "\t<li>'blue'</li>\n",
       "\t<li>'green'</li>\n",
       "\t<li>'brown'</li>\n",
       "\t<li>'brown'</li>\n",
       "</ol>\n"
      ],
      "text/latex": [
       "\\begin{enumerate*}\n",
       "\\item 'blue'\n",
       "\\item 'green'\n",
       "\\item 'brown'\n",
       "\\item 'brown'\n",
       "\\end{enumerate*}\n"
      ],
      "text/markdown": [
       "1. 'blue'\n",
       "2. 'green'\n",
       "3. 'brown'\n",
       "4. 'brown'\n",
       "\n",
       "\n"
      ],
      "text/plain": [
       "[1] \"blue\"  \"green\" \"brown\" \"brown\""
      ]
     },
     "metadata": {},
     "output_type": "display_data"
    }
   ],
   "source": [
    "c('blue', 'green', 'brown', 'brown')"
   ]
  },
  {
   "cell_type": "code",
   "execution_count": 46,
   "metadata": {},
   "outputs": [
    {
     "data": {
      "text/html": [
       "<ol class=list-inline>\n",
       "\t<li>'67'</li>\n",
       "\t<li>'74'</li>\n",
       "\t<li>'63'</li>\n",
       "\t<li>'yes'</li>\n",
       "</ol>\n"
      ],
      "text/latex": [
       "\\begin{enumerate*}\n",
       "\\item '67'\n",
       "\\item '74'\n",
       "\\item '63'\n",
       "\\item 'yes'\n",
       "\\end{enumerate*}\n"
      ],
      "text/markdown": [
       "1. '67'\n",
       "2. '74'\n",
       "3. '63'\n",
       "4. 'yes'\n",
       "\n",
       "\n"
      ],
      "text/plain": [
       "[1] \"67\"  \"74\"  \"63\"  \"yes\""
      ]
     },
     "metadata": {},
     "output_type": "display_data"
    }
   ],
   "source": [
    "c(67, 74, 63, 'yes')"
   ]
  },
  {
   "cell_type": "markdown",
   "metadata": {},
   "source": [
    "<a id='seq'></a>\n",
    "**VI. seq**"
   ]
  },
  {
   "cell_type": "code",
   "execution_count": 43,
   "metadata": {},
   "outputs": [
    {
     "data": {
      "text/html": [
       "<ol class=list-inline>\n",
       "\t<li>1</li>\n",
       "\t<li>3</li>\n",
       "\t<li>5</li>\n",
       "\t<li>7</li>\n",
       "\t<li>9</li>\n",
       "</ol>\n"
      ],
      "text/latex": [
       "\\begin{enumerate*}\n",
       "\\item 1\n",
       "\\item 3\n",
       "\\item 5\n",
       "\\item 7\n",
       "\\item 9\n",
       "\\end{enumerate*}\n"
      ],
      "text/markdown": [
       "1. 1\n",
       "2. 3\n",
       "3. 5\n",
       "4. 7\n",
       "5. 9\n",
       "\n",
       "\n"
      ],
      "text/plain": [
       "[1] 1 3 5 7 9"
      ]
     },
     "metadata": {},
     "output_type": "display_data"
    }
   ],
   "source": [
    "seq(1, 10, 2)"
   ]
  },
  {
   "cell_type": "markdown",
   "metadata": {},
   "source": [
    "利用`length.out`参数，等分两个数"
   ]
  },
  {
   "cell_type": "code",
   "execution_count": 49,
   "metadata": {},
   "outputs": [
    {
     "data": {
      "text/html": [
       "<ol class=list-inline>\n",
       "\t<li>1</li>\n",
       "\t<li>2.28571428571429</li>\n",
       "\t<li>3.57142857142857</li>\n",
       "\t<li>4.85714285714286</li>\n",
       "\t<li>6.14285714285714</li>\n",
       "\t<li>7.42857142857143</li>\n",
       "\t<li>8.71428571428572</li>\n",
       "\t<li>10</li>\n",
       "</ol>\n"
      ],
      "text/latex": [
       "\\begin{enumerate*}\n",
       "\\item 1\n",
       "\\item 2.28571428571429\n",
       "\\item 3.57142857142857\n",
       "\\item 4.85714285714286\n",
       "\\item 6.14285714285714\n",
       "\\item 7.42857142857143\n",
       "\\item 8.71428571428572\n",
       "\\item 10\n",
       "\\end{enumerate*}\n"
      ],
      "text/markdown": [
       "1. 1\n",
       "2. 2.28571428571429\n",
       "3. 3.57142857142857\n",
       "4. 4.85714285714286\n",
       "5. 6.14285714285714\n",
       "6. 7.42857142857143\n",
       "7. 8.71428571428572\n",
       "8. 10\n",
       "\n",
       "\n"
      ],
      "text/plain": [
       "[1]  1.000000  2.285714  3.571429  4.857143  6.142857  7.428571  8.714286\n",
       "[8] 10.000000"
      ]
     },
     "metadata": {},
     "output_type": "display_data"
    }
   ],
   "source": [
    "# 类似python中的np.linspace()\n",
    "seq(1, 10, length.out=8)"
   ]
  },
  {
   "cell_type": "code",
   "execution_count": 52,
   "metadata": {},
   "outputs": [
    {
     "data": {
      "text/html": [
       "<ol class=list-inline>\n",
       "\t<li>0</li>\n",
       "\t<li>0.1</li>\n",
       "\t<li>0.2</li>\n",
       "\t<li>0.3</li>\n",
       "\t<li>0.4</li>\n",
       "\t<li>0.5</li>\n",
       "\t<li>0.6</li>\n",
       "\t<li>0.7</li>\n",
       "\t<li>0.8</li>\n",
       "\t<li>0.9</li>\n",
       "\t<li>1</li>\n",
       "</ol>\n"
      ],
      "text/latex": [
       "\\begin{enumerate*}\n",
       "\\item 0\n",
       "\\item 0.1\n",
       "\\item 0.2\n",
       "\\item 0.3\n",
       "\\item 0.4\n",
       "\\item 0.5\n",
       "\\item 0.6\n",
       "\\item 0.7\n",
       "\\item 0.8\n",
       "\\item 0.9\n",
       "\\item 1\n",
       "\\end{enumerate*}\n"
      ],
      "text/markdown": [
       "1. 0\n",
       "2. 0.1\n",
       "3. 0.2\n",
       "4. 0.3\n",
       "5. 0.4\n",
       "6. 0.5\n",
       "7. 0.6\n",
       "8. 0.7\n",
       "9. 0.8\n",
       "10. 0.9\n",
       "11. 1\n",
       "\n",
       "\n"
      ],
      "text/plain": [
       " [1] 0.0 0.1 0.2 0.3 0.4 0.5 0.6 0.7 0.8 0.9 1.0"
      ]
     },
     "metadata": {},
     "output_type": "display_data"
    }
   ],
   "source": [
    "seq(0, 1, length.out=11)"
   ]
  },
  {
   "cell_type": "markdown",
   "metadata": {},
   "source": [
    "<a id='rep'></a>\n",
    "**VII. rep**"
   ]
  },
  {
   "cell_type": "code",
   "execution_count": 44,
   "metadata": {},
   "outputs": [
    {
     "data": {
      "text/html": [
       "<ol class=list-inline>\n",
       "\t<li>2</li>\n",
       "\t<li>2</li>\n",
       "\t<li>2</li>\n",
       "\t<li>1</li>\n",
       "\t<li>1</li>\n",
       "</ol>\n"
      ],
      "text/latex": [
       "\\begin{enumerate*}\n",
       "\\item 2\n",
       "\\item 2\n",
       "\\item 2\n",
       "\\item 1\n",
       "\\item 1\n",
       "\\end{enumerate*}\n"
      ],
      "text/markdown": [
       "1. 2\n",
       "2. 2\n",
       "3. 2\n",
       "4. 1\n",
       "5. 1\n",
       "\n",
       "\n"
      ],
      "text/plain": [
       "[1] 2 2 2 1 1"
      ]
     },
     "metadata": {},
     "output_type": "display_data"
    }
   ],
   "source": [
    "c(rep(2, 3), rep(1, 2))"
   ]
  },
  {
   "cell_type": "code",
   "execution_count": 50,
   "metadata": {},
   "outputs": [
    {
     "data": {
      "text/html": [
       "<ol class=list-inline>\n",
       "\t<li>0</li>\n",
       "\t<li>0</li>\n",
       "\t<li>0</li>\n",
       "\t<li>0</li>\n",
       "\t<li>0</li>\n",
       "</ol>\n"
      ],
      "text/latex": [
       "\\begin{enumerate*}\n",
       "\\item 0\n",
       "\\item 0\n",
       "\\item 0\n",
       "\\item 0\n",
       "\\item 0\n",
       "\\end{enumerate*}\n"
      ],
      "text/markdown": [
       "1. 0\n",
       "2. 0\n",
       "3. 0\n",
       "4. 0\n",
       "5. 0\n",
       "\n",
       "\n"
      ],
      "text/plain": [
       "[1] 0 0 0 0 0"
      ]
     },
     "metadata": {},
     "output_type": "display_data"
    }
   ],
   "source": [
    "vector('numeric', 5)"
   ]
  },
  {
   "cell_type": "markdown",
   "metadata": {},
   "source": [
    "<a id='any_all_which'></a>\n",
    "**VIII. `any`, `all` and `which`**"
   ]
  },
  {
   "cell_type": "code",
   "execution_count": 54,
   "metadata": {},
   "outputs": [
    {
     "data": {
      "text/html": [
       "TRUE"
      ],
      "text/latex": [
       "TRUE"
      ],
      "text/markdown": [
       "TRUE"
      ],
      "text/plain": [
       "[1] TRUE"
      ]
     },
     "metadata": {},
     "output_type": "display_data"
    }
   ],
   "source": [
    "# any\n",
    "heights = c(67, 74, 63, 70)\n",
    "any(heights>70)"
   ]
  },
  {
   "cell_type": "code",
   "execution_count": 55,
   "metadata": {},
   "outputs": [
    {
     "data": {
      "text/html": [
       "FALSE"
      ],
      "text/latex": [
       "FALSE"
      ],
      "text/markdown": [
       "FALSE"
      ],
      "text/plain": [
       "[1] FALSE"
      ]
     },
     "metadata": {},
     "output_type": "display_data"
    }
   ],
   "source": [
    "# all\n",
    "heights = c(67, 74, 63, 70)\n",
    "all(heights>65)"
   ]
  },
  {
   "cell_type": "code",
   "execution_count": 58,
   "metadata": {},
   "outputs": [
    {
     "data": {
      "text/html": [
       "<ol class=list-inline>\n",
       "\t<li>1</li>\n",
       "\t<li>2</li>\n",
       "\t<li>4</li>\n",
       "</ol>\n"
      ],
      "text/latex": [
       "\\begin{enumerate*}\n",
       "\\item 1\n",
       "\\item 2\n",
       "\\item 4\n",
       "\\end{enumerate*}\n"
      ],
      "text/markdown": [
       "1. 1\n",
       "2. 2\n",
       "3. 4\n",
       "\n",
       "\n"
      ],
      "text/plain": [
       "[1] 1 2 4"
      ]
     },
     "metadata": {},
     "output_type": "display_data"
    }
   ],
   "source": [
    "# which\n",
    "heights = c(67, 74, 63, 70)\n",
    "which(heights>65)"
   ]
  },
  {
   "cell_type": "code",
   "execution_count": 59,
   "metadata": {},
   "outputs": [
    {
     "data": {
      "text/html": [
       "3"
      ],
      "text/latex": [
       "3"
      ],
      "text/markdown": [
       "3"
      ],
      "text/plain": [
       "[1] 3"
      ]
     },
     "metadata": {},
     "output_type": "display_data"
    }
   ],
   "source": [
    "# 取反操作\n",
    "heights = c(67, 74, 63, 70)\n",
    "which(!heights>65)"
   ]
  },
  {
   "cell_type": "markdown",
   "metadata": {},
   "source": [
    "<a id='subset'></a>\n",
    "**IX. `subset()` 按条件切片**"
   ]
  },
  {
   "cell_type": "code",
   "execution_count": 62,
   "metadata": {},
   "outputs": [
    {
     "data": {
      "text/html": [
       "'green'"
      ],
      "text/latex": [
       "'green'"
      ],
      "text/markdown": [
       "'green'"
      ],
      "text/plain": [
       "[1] \"green\""
      ]
     },
     "metadata": {},
     "output_type": "display_data"
    }
   ],
   "source": [
    "# four people with 1st person eye and height in index 1\n",
    "# 2nd person has eye and height in index 2\n",
    "# and so on...\n",
    "\n",
    "eye.colors = c('blue', 'green', 'brown', 'brown')\n",
    "heights = c(67, 74, 63, 70)\n",
    "subset(eye.colors, heights > 70)"
   ]
  },
  {
   "cell_type": "markdown",
   "metadata": {},
   "source": [
    "<a id='matrix_cut'></a>\n",
    "**X. 数组与切片**"
   ]
  },
  {
   "cell_type": "code",
   "execution_count": 63,
   "metadata": {},
   "outputs": [
    {
     "data": {
      "text/html": [
       "<table>\n",
       "<tbody>\n",
       "\t<tr><td>1 </td><td>5 </td><td> 9</td><td>13</td><td>17</td></tr>\n",
       "\t<tr><td>2 </td><td>6 </td><td>10</td><td>14</td><td>18</td></tr>\n",
       "\t<tr><td>3 </td><td>7 </td><td>11</td><td>15</td><td>19</td></tr>\n",
       "\t<tr><td>4 </td><td>8 </td><td>12</td><td>16</td><td>20</td></tr>\n",
       "</tbody>\n",
       "</table>\n"
      ],
      "text/latex": [
       "\\begin{tabular}{lllll}\n",
       "\t 1  & 5  &  9 & 13 & 17\\\\\n",
       "\t 2  & 6  & 10 & 14 & 18\\\\\n",
       "\t 3  & 7  & 11 & 15 & 19\\\\\n",
       "\t 4  & 8  & 12 & 16 & 20\\\\\n",
       "\\end{tabular}\n"
      ],
      "text/markdown": [
       "\n",
       "| 1  | 5  |  9 | 13 | 17 |\n",
       "| 2  | 6  | 10 | 14 | 18 |\n",
       "| 3  | 7  | 11 | 15 | 19 |\n",
       "| 4  | 8  | 12 | 16 | 20 |\n",
       "\n"
      ],
      "text/plain": [
       "     [,1] [,2] [,3] [,4] [,5]\n",
       "[1,] 1    5     9   13   17  \n",
       "[2,] 2    6    10   14   18  \n",
       "[3,] 3    7    11   15   19  \n",
       "[4,] 4    8    12   16   20  "
      ]
     },
     "metadata": {},
     "output_type": "display_data"
    }
   ],
   "source": [
    "my.array = array(seq(1,20,1), dim=c(4,5))\n",
    "my.array"
   ]
  },
  {
   "cell_type": "code",
   "execution_count": 64,
   "metadata": {},
   "outputs": [
    {
     "data": {
      "text/html": [
       "8"
      ],
      "text/latex": [
       "8"
      ],
      "text/markdown": [
       "8"
      ],
      "text/plain": [
       "[1] 8"
      ]
     },
     "metadata": {},
     "output_type": "display_data"
    }
   ],
   "source": [
    "my.array[4, 2] # 4th row, 2nd column"
   ]
  },
  {
   "cell_type": "code",
   "execution_count": 65,
   "metadata": {
    "graffitiCellId": "id_wl23tzx"
   },
   "outputs": [
    {
     "data": {
      "text/html": [
       "<ol class=list-inline>\n",
       "\t<li>1</li>\n",
       "\t<li>5</li>\n",
       "\t<li>9</li>\n",
       "\t<li>13</li>\n",
       "\t<li>17</li>\n",
       "</ol>\n"
      ],
      "text/latex": [
       "\\begin{enumerate*}\n",
       "\\item 1\n",
       "\\item 5\n",
       "\\item 9\n",
       "\\item 13\n",
       "\\item 17\n",
       "\\end{enumerate*}\n"
      ],
      "text/markdown": [
       "1. 1\n",
       "2. 5\n",
       "3. 9\n",
       "4. 13\n",
       "5. 17\n",
       "\n",
       "\n"
      ],
      "text/plain": [
       "[1]  1  5  9 13 17"
      ]
     },
     "metadata": {},
     "output_type": "display_data"
    }
   ],
   "source": [
    "my.array[1,] # first row"
   ]
  },
  {
   "cell_type": "code",
   "execution_count": 66,
   "metadata": {
    "graffitiCellId": "id_i7j34of"
   },
   "outputs": [
    {
     "data": {
      "text/html": [
       "<ol class=list-inline>\n",
       "\t<li>5</li>\n",
       "\t<li>6</li>\n",
       "\t<li>7</li>\n",
       "\t<li>8</li>\n",
       "</ol>\n"
      ],
      "text/latex": [
       "\\begin{enumerate*}\n",
       "\\item 5\n",
       "\\item 6\n",
       "\\item 7\n",
       "\\item 8\n",
       "\\end{enumerate*}\n"
      ],
      "text/markdown": [
       "1. 5\n",
       "2. 6\n",
       "3. 7\n",
       "4. 8\n",
       "\n",
       "\n"
      ],
      "text/plain": [
       "[1] 5 6 7 8"
      ]
     },
     "metadata": {},
     "output_type": "display_data"
    }
   ],
   "source": [
    "my.array[,2] # second column"
   ]
  },
  {
   "cell_type": "code",
   "execution_count": 67,
   "metadata": {
    "graffitiCellId": "id_hb13xaz"
   },
   "outputs": [
    {
     "data": {
      "text/html": [
       "<table>\n",
       "<tbody>\n",
       "\t<tr><td>13</td><td>17</td></tr>\n",
       "\t<tr><td>15</td><td>19</td></tr>\n",
       "</tbody>\n",
       "</table>\n"
      ],
      "text/latex": [
       "\\begin{tabular}{ll}\n",
       "\t 13 & 17\\\\\n",
       "\t 15 & 19\\\\\n",
       "\\end{tabular}\n"
      ],
      "text/markdown": [
       "\n",
       "| 13 | 17 |\n",
       "| 15 | 19 |\n",
       "\n"
      ],
      "text/plain": [
       "     [,1] [,2]\n",
       "[1,] 13   17  \n",
       "[2,] 15   19  "
      ]
     },
     "metadata": {},
     "output_type": "display_data"
    }
   ],
   "source": [
    "my.array[c(1,3), c(4,5)]"
   ]
  },
  {
   "cell_type": "code",
   "execution_count": 68,
   "metadata": {
    "graffitiCellId": "id_17ghwwj"
   },
   "outputs": [
    {
     "data": {
      "text/html": [
       "<table>\n",
       "<tbody>\n",
       "\t<tr><td> 9</td><td>13</td><td>17</td></tr>\n",
       "\t<tr><td>10</td><td>14</td><td>18</td></tr>\n",
       "\t<tr><td>11</td><td>15</td><td>19</td></tr>\n",
       "</tbody>\n",
       "</table>\n"
      ],
      "text/latex": [
       "\\begin{tabular}{lll}\n",
       "\t  9 & 13 & 17\\\\\n",
       "\t 10 & 14 & 18\\\\\n",
       "\t 11 & 15 & 19\\\\\n",
       "\\end{tabular}\n"
      ],
      "text/markdown": [
       "\n",
       "|  9 | 13 | 17 |\n",
       "| 10 | 14 | 18 |\n",
       "| 11 | 15 | 19 |\n",
       "\n"
      ],
      "text/plain": [
       "     [,1] [,2] [,3]\n",
       "[1,]  9   13   17  \n",
       "[2,] 10   14   18  \n",
       "[3,] 11   15   19  "
      ]
     },
     "metadata": {},
     "output_type": "display_data"
    }
   ],
   "source": [
    "my.array[1:3, 3:5]"
   ]
  },
  {
   "cell_type": "code",
   "execution_count": 69,
   "metadata": {},
   "outputs": [
    {
     "data": {
      "text/html": [
       "<table>\n",
       "<tbody>\n",
       "\t<tr><td>2 </td><td>6 </td><td>10</td><td>14</td><td>18</td></tr>\n",
       "\t<tr><td>3 </td><td>7 </td><td>11</td><td>15</td><td>19</td></tr>\n",
       "\t<tr><td>4 </td><td>8 </td><td>12</td><td>16</td><td>20</td></tr>\n",
       "</tbody>\n",
       "</table>\n"
      ],
      "text/latex": [
       "\\begin{tabular}{lllll}\n",
       "\t 2  & 6  & 10 & 14 & 18\\\\\n",
       "\t 3  & 7  & 11 & 15 & 19\\\\\n",
       "\t 4  & 8  & 12 & 16 & 20\\\\\n",
       "\\end{tabular}\n"
      ],
      "text/markdown": [
       "\n",
       "| 2  | 6  | 10 | 14 | 18 |\n",
       "| 3  | 7  | 11 | 15 | 19 |\n",
       "| 4  | 8  | 12 | 16 | 20 |\n",
       "\n"
      ],
      "text/plain": [
       "     [,1] [,2] [,3] [,4] [,5]\n",
       "[1,] 2    6    10   14   18  \n",
       "[2,] 3    7    11   15   19  \n",
       "[3,] 4    8    12   16   20  "
      ]
     },
     "metadata": {},
     "output_type": "display_data"
    }
   ],
   "source": [
    "my.array[-1,]"
   ]
  },
  {
   "cell_type": "code",
   "execution_count": 73,
   "metadata": {},
   "outputs": [
    {
     "data": {
      "text/html": [
       "<ol class=list-inline>\n",
       "\t<li>0</li>\n",
       "\t<li>0.1</li>\n",
       "\t<li>0.2</li>\n",
       "\t<li>0.3</li>\n",
       "\t<li>0.4</li>\n",
       "</ol>\n"
      ],
      "text/latex": [
       "\\begin{enumerate*}\n",
       "\\item 0\n",
       "\\item 0.1\n",
       "\\item 0.2\n",
       "\\item 0.3\n",
       "\\item 0.4\n",
       "\\end{enumerate*}\n"
      ],
      "text/markdown": [
       "1. 0\n",
       "2. 0.1\n",
       "3. 0.2\n",
       "4. 0.3\n",
       "5. 0.4\n",
       "\n",
       "\n"
      ],
      "text/plain": [
       "[1] 0.0 0.1 0.2 0.3 0.4"
      ]
     },
     "metadata": {},
     "output_type": "display_data"
    }
   ],
   "source": [
    "w = seq(0, 1, 0.1)\n",
    "subset(w, w<.5)"
   ]
  },
  {
   "cell_type": "code",
   "execution_count": 75,
   "metadata": {},
   "outputs": [
    {
     "data": {
      "text/html": [
       "<ol class=list-inline>\n",
       "\t<li>0</li>\n",
       "\t<li>0.1</li>\n",
       "\t<li>0.2</li>\n",
       "\t<li>0.3</li>\n",
       "\t<li>0.4</li>\n",
       "</ol>\n"
      ],
      "text/latex": [
       "\\begin{enumerate*}\n",
       "\\item 0\n",
       "\\item 0.1\n",
       "\\item 0.2\n",
       "\\item 0.3\n",
       "\\item 0.4\n",
       "\\end{enumerate*}\n"
      ],
      "text/markdown": [
       "1. 0\n",
       "2. 0.1\n",
       "3. 0.2\n",
       "4. 0.3\n",
       "5. 0.4\n",
       "\n",
       "\n"
      ],
      "text/plain": [
       "[1] 0.0 0.1 0.2 0.3 0.4"
      ]
     },
     "metadata": {},
     "output_type": "display_data"
    }
   ],
   "source": [
    "# 与subset()等效\n",
    "w[w<.5]"
   ]
  },
  {
   "cell_type": "code",
   "execution_count": 74,
   "metadata": {},
   "outputs": [
    {
     "data": {
      "text/html": [
       "<ol class=list-inline>\n",
       "\t<li>1</li>\n",
       "\t<li>2</li>\n",
       "\t<li>3</li>\n",
       "\t<li>4</li>\n",
       "\t<li>5</li>\n",
       "</ol>\n"
      ],
      "text/latex": [
       "\\begin{enumerate*}\n",
       "\\item 1\n",
       "\\item 2\n",
       "\\item 3\n",
       "\\item 4\n",
       "\\item 5\n",
       "\\end{enumerate*}\n"
      ],
      "text/markdown": [
       "1. 1\n",
       "2. 2\n",
       "3. 3\n",
       "4. 4\n",
       "5. 5\n",
       "\n",
       "\n"
      ],
      "text/plain": [
       "[1] 1 2 3 4 5"
      ]
     },
     "metadata": {},
     "output_type": "display_data"
    }
   ],
   "source": [
    "which(w<.5)"
   ]
  },
  {
   "cell_type": "code",
   "execution_count": 76,
   "metadata": {},
   "outputs": [
    {
     "data": {
      "text/html": [
       "<ol class=list-inline>\n",
       "\t<li>0</li>\n",
       "\t<li>0</li>\n",
       "\t<li>0</li>\n",
       "\t<li>0</li>\n",
       "\t<li>0</li>\n",
       "\t<li>0.5</li>\n",
       "\t<li>0.6</li>\n",
       "\t<li>0.7</li>\n",
       "\t<li>0.8</li>\n",
       "\t<li>0.9</li>\n",
       "\t<li>1</li>\n",
       "</ol>\n"
      ],
      "text/latex": [
       "\\begin{enumerate*}\n",
       "\\item 0\n",
       "\\item 0\n",
       "\\item 0\n",
       "\\item 0\n",
       "\\item 0\n",
       "\\item 0.5\n",
       "\\item 0.6\n",
       "\\item 0.7\n",
       "\\item 0.8\n",
       "\\item 0.9\n",
       "\\item 1\n",
       "\\end{enumerate*}\n"
      ],
      "text/markdown": [
       "1. 0\n",
       "2. 0\n",
       "3. 0\n",
       "4. 0\n",
       "5. 0\n",
       "6. 0.5\n",
       "7. 0.6\n",
       "8. 0.7\n",
       "9. 0.8\n",
       "10. 0.9\n",
       "11. 1\n",
       "\n",
       "\n"
      ],
      "text/plain": [
       " [1] 0.0 0.0 0.0 0.0 0.0 0.5 0.6 0.7 0.8 0.9 1.0"
      ]
     },
     "metadata": {},
     "output_type": "display_data"
    }
   ],
   "source": [
    "# zero out components\n",
    "w[w<.5]=0\n",
    "w"
   ]
  },
  {
   "cell_type": "markdown",
   "metadata": {},
   "source": [
    "<a id='matrix_calc'></a>\n",
    "**XI. 数组运算**\n",
    "\n",
    "- [基于元素的算数运算](#array1)\n",
    "- [转置 `t()`](#array2)\n",
    "- [内积（点乘）`%*%`](#array3)\n",
    "- [行拼接和列拼接 `rbind` & `cbind()`](#array4)"
   ]
  },
  {
   "cell_type": "markdown",
   "metadata": {},
   "source": [
    "<a id='array1'></a>\n",
    "**基于元素的算数运算**"
   ]
  },
  {
   "cell_type": "markdown",
   "metadata": {},
   "source": [
    "**Example 1**"
   ]
  },
  {
   "cell_type": "code",
   "execution_count": 77,
   "metadata": {},
   "outputs": [
    {
     "data": {
      "text/html": [
       "<table>\n",
       "<tbody>\n",
       "\t<tr><td>1</td><td>3</td></tr>\n",
       "\t<tr><td>2</td><td>4</td></tr>\n",
       "</tbody>\n",
       "</table>\n"
      ],
      "text/latex": [
       "\\begin{tabular}{ll}\n",
       "\t 1 & 3\\\\\n",
       "\t 2 & 4\\\\\n",
       "\\end{tabular}\n"
      ],
      "text/markdown": [
       "\n",
       "| 1 | 3 |\n",
       "| 2 | 4 |\n",
       "\n"
      ],
      "text/plain": [
       "     [,1] [,2]\n",
       "[1,] 1    3   \n",
       "[2,] 2    4   "
      ]
     },
     "metadata": {},
     "output_type": "display_data"
    }
   ],
   "source": [
    "my.array = array(seq(1,4,1), dim=c(2,2))\n",
    "my.array"
   ]
  },
  {
   "cell_type": "code",
   "execution_count": 78,
   "metadata": {},
   "outputs": [
    {
     "data": {
      "text/html": [
       "<table>\n",
       "<tbody>\n",
       "\t<tr><td>11</td><td>13</td></tr>\n",
       "\t<tr><td>12</td><td>14</td></tr>\n",
       "</tbody>\n",
       "</table>\n"
      ],
      "text/latex": [
       "\\begin{tabular}{ll}\n",
       "\t 11 & 13\\\\\n",
       "\t 12 & 14\\\\\n",
       "\\end{tabular}\n"
      ],
      "text/markdown": [
       "\n",
       "| 11 | 13 |\n",
       "| 12 | 14 |\n",
       "\n"
      ],
      "text/plain": [
       "     [,1] [,2]\n",
       "[1,] 11   13  \n",
       "[2,] 12   14  "
      ]
     },
     "metadata": {},
     "output_type": "display_data"
    }
   ],
   "source": [
    "my.array + 10"
   ]
  },
  {
   "cell_type": "markdown",
   "metadata": {},
   "source": [
    "**Example 2**"
   ]
  },
  {
   "cell_type": "code",
   "execution_count": 109,
   "metadata": {},
   "outputs": [
    {
     "data": {
      "text/html": [
       "<table>\n",
       "<tbody>\n",
       "\t<tr><td>1</td><td>5</td></tr>\n",
       "\t<tr><td>2</td><td>6</td></tr>\n",
       "</tbody>\n",
       "</table>\n"
      ],
      "text/latex": [
       "\\begin{tabular}{ll}\n",
       "\t 1 & 5\\\\\n",
       "\t 2 & 6\\\\\n",
       "\\end{tabular}\n"
      ],
      "text/markdown": [
       "\n",
       "| 1 | 5 |\n",
       "| 2 | 6 |\n",
       "\n"
      ],
      "text/plain": [
       "     [,1] [,2]\n",
       "[1,] 1    5   \n",
       "[2,] 2    6   "
      ]
     },
     "metadata": {},
     "output_type": "display_data"
    }
   ],
   "source": [
    "y = array(c(1,2,5,6), dim=c(2,2))\n",
    "y"
   ]
  },
  {
   "cell_type": "code",
   "execution_count": 110,
   "metadata": {},
   "outputs": [
    {
     "data": {
      "text/html": [
       "<table>\n",
       "<tbody>\n",
       "\t<tr><td>3 </td><td>11</td></tr>\n",
       "\t<tr><td>5 </td><td>13</td></tr>\n",
       "</tbody>\n",
       "</table>\n"
      ],
      "text/latex": [
       "\\begin{tabular}{ll}\n",
       "\t 3  & 11\\\\\n",
       "\t 5  & 13\\\\\n",
       "\\end{tabular}\n"
      ],
      "text/markdown": [
       "\n",
       "| 3  | 11 |\n",
       "| 5  | 13 |\n",
       "\n"
      ],
      "text/plain": [
       "     [,1] [,2]\n",
       "[1,] 3    11  \n",
       "[2,] 5    13  "
      ]
     },
     "metadata": {},
     "output_type": "display_data"
    }
   ],
   "source": [
    "2 * y + 1"
   ]
  },
  {
   "cell_type": "code",
   "execution_count": 111,
   "metadata": {},
   "outputs": [
    {
     "data": {
      "text/html": [
       "<table>\n",
       "<tbody>\n",
       "\t<tr><td>11</td><td>35</td></tr>\n",
       "\t<tr><td>14</td><td>46</td></tr>\n",
       "</tbody>\n",
       "</table>\n"
      ],
      "text/latex": [
       "\\begin{tabular}{ll}\n",
       "\t 11 & 35\\\\\n",
       "\t 14 & 46\\\\\n",
       "\\end{tabular}\n"
      ],
      "text/markdown": [
       "\n",
       "| 11 | 35 |\n",
       "| 14 | 46 |\n",
       "\n"
      ],
      "text/plain": [
       "     [,1] [,2]\n",
       "[1,] 11   35  \n",
       "[2,] 14   46  "
      ]
     },
     "metadata": {},
     "output_type": "display_data"
    }
   ],
   "source": [
    "y %*% y"
   ]
  },
  {
   "cell_type": "code",
   "execution_count": 114,
   "metadata": {},
   "outputs": [
    {
     "data": {
      "text/html": [
       "11"
      ],
      "text/latex": [
       "11"
      ],
      "text/markdown": [
       "11"
      ],
      "text/plain": [
       "[1] 11"
      ]
     },
     "metadata": {},
     "output_type": "display_data"
    },
    {
     "data": {
      "text/html": [
       "35"
      ],
      "text/latex": [
       "35"
      ],
      "text/markdown": [
       "35"
      ],
      "text/plain": [
       "[1] 35"
      ]
     },
     "metadata": {},
     "output_type": "display_data"
    },
    {
     "data": {
      "text/html": [
       "14"
      ],
      "text/latex": [
       "14"
      ],
      "text/markdown": [
       "14"
      ],
      "text/plain": [
       "[1] 14"
      ]
     },
     "metadata": {},
     "output_type": "display_data"
    },
    {
     "data": {
      "text/html": [
       "46"
      ],
      "text/latex": [
       "46"
      ],
      "text/markdown": [
       "46"
      ],
      "text/plain": [
       "[1] 46"
      ]
     },
     "metadata": {},
     "output_type": "display_data"
    }
   ],
   "source": [
    "# test\n",
    "1*1 + 5*2 \n",
    "1*5 + 5*6\n",
    "2*6 + 1*2\n",
    "2*5 + 6*6"
   ]
  },
  {
   "cell_type": "markdown",
   "metadata": {},
   "source": [
    "<a id='array2'></a>\n",
    "**转置 `t()`**"
   ]
  },
  {
   "cell_type": "code",
   "execution_count": 80,
   "metadata": {},
   "outputs": [
    {
     "data": {
      "text/html": [
       "<table>\n",
       "<tbody>\n",
       "\t<tr><td>  2</td><td> 4 </td><td>-1 </td></tr>\n",
       "\t<tr><td>-10</td><td> 5 </td><td>11 </td></tr>\n",
       "\t<tr><td> 18</td><td>-7 </td><td> 6 </td></tr>\n",
       "</tbody>\n",
       "</table>\n"
      ],
      "text/latex": [
       "\\begin{tabular}{lll}\n",
       "\t   2 &  4  & -1 \\\\\n",
       "\t -10 &  5  & 11 \\\\\n",
       "\t  18 & -7  &  6 \\\\\n",
       "\\end{tabular}\n"
      ],
      "text/markdown": [
       "\n",
       "|   2 |  4  | -1  |\n",
       "| -10 |  5  | 11  |\n",
       "|  18 | -7  |  6  |\n",
       "\n"
      ],
      "text/plain": [
       "     [,1] [,2] [,3]\n",
       "[1,]   2   4   -1  \n",
       "[2,] -10   5   11  \n",
       "[3,]  18  -7    6  "
      ]
     },
     "metadata": {},
     "output_type": "display_data"
    }
   ],
   "source": [
    "my.array1 = array(c(2, -10, 18, 4, 5, -7, -1, 11, 6), dim=c(3,3))\n",
    "my.array1"
   ]
  },
  {
   "cell_type": "code",
   "execution_count": 81,
   "metadata": {},
   "outputs": [
    {
     "data": {
      "text/html": [
       "<table>\n",
       "<tbody>\n",
       "\t<tr><td> 2 </td><td>-10</td><td>18 </td></tr>\n",
       "\t<tr><td> 4 </td><td>  5</td><td>-7 </td></tr>\n",
       "\t<tr><td>-1 </td><td> 11</td><td> 6 </td></tr>\n",
       "</tbody>\n",
       "</table>\n"
      ],
      "text/latex": [
       "\\begin{tabular}{lll}\n",
       "\t  2  & -10 & 18 \\\\\n",
       "\t  4  &   5 & -7 \\\\\n",
       "\t -1  &  11 &  6 \\\\\n",
       "\\end{tabular}\n"
      ],
      "text/markdown": [
       "\n",
       "|  2  | -10 | 18  |\n",
       "|  4  |   5 | -7  |\n",
       "| -1  |  11 |  6  |\n",
       "\n"
      ],
      "text/plain": [
       "     [,1] [,2] [,3]\n",
       "[1,]  2   -10  18  \n",
       "[2,]  4     5  -7  \n",
       "[3,] -1    11   6  "
      ]
     },
     "metadata": {},
     "output_type": "display_data"
    }
   ],
   "source": [
    "t(my.array1)"
   ]
  },
  {
   "cell_type": "markdown",
   "metadata": {},
   "source": [
    "<a id='array3'></a>\n",
    "**内积（点乘）`%*%`**\n",
    "\n",
    "___NOTICE:___\n",
    "1. The number of columns in the first matrix must equal the number of columns in the second matrix.\n",
    "\n",
    "\n",
    "2. The value in the final matrix for any position is equal to the dot product of the row in the first matrix with the column in the second matrix. "
   ]
  },
  {
   "cell_type": "markdown",
   "metadata": {},
   "source": [
    "**Example 1**"
   ]
  },
  {
   "cell_type": "code",
   "execution_count": 83,
   "metadata": {},
   "outputs": [
    {
     "data": {
      "text/html": [
       "<table>\n",
       "<tbody>\n",
       "\t<tr><td>1</td><td>2</td></tr>\n",
       "\t<tr><td>3</td><td>4</td></tr>\n",
       "</tbody>\n",
       "</table>\n"
      ],
      "text/latex": [
       "\\begin{tabular}{ll}\n",
       "\t 1 & 2\\\\\n",
       "\t 3 & 4\\\\\n",
       "\\end{tabular}\n"
      ],
      "text/markdown": [
       "\n",
       "| 1 | 2 |\n",
       "| 3 | 4 |\n",
       "\n"
      ],
      "text/plain": [
       "     [,1] [,2]\n",
       "[1,] 1    2   \n",
       "[2,] 3    4   "
      ]
     },
     "metadata": {},
     "output_type": "display_data"
    },
    {
     "data": {
      "text/html": [
       "<table>\n",
       "<tbody>\n",
       "\t<tr><td>5</td><td>6</td></tr>\n",
       "\t<tr><td>0</td><td>7</td></tr>\n",
       "</tbody>\n",
       "</table>\n"
      ],
      "text/latex": [
       "\\begin{tabular}{ll}\n",
       "\t 5 & 6\\\\\n",
       "\t 0 & 7\\\\\n",
       "\\end{tabular}\n"
      ],
      "text/markdown": [
       "\n",
       "| 5 | 6 |\n",
       "| 0 | 7 |\n",
       "\n"
      ],
      "text/plain": [
       "     [,1] [,2]\n",
       "[1,] 5    6   \n",
       "[2,] 0    7   "
      ]
     },
     "metadata": {},
     "output_type": "display_data"
    }
   ],
   "source": [
    "my.array1 = array(c(1, 3, 2, 4), dim=c(2,2))\n",
    "my.array2 = array(c(5, 0, 6, 7), dim=c(2,2))\n",
    "my.array1\n",
    "my.array2"
   ]
  },
  {
   "cell_type": "code",
   "execution_count": 84,
   "metadata": {},
   "outputs": [
    {
     "data": {
      "text/html": [
       "<table>\n",
       "<tbody>\n",
       "\t<tr><td> 5</td><td>20</td></tr>\n",
       "\t<tr><td>15</td><td>46</td></tr>\n",
       "</tbody>\n",
       "</table>\n"
      ],
      "text/latex": [
       "\\begin{tabular}{ll}\n",
       "\t  5 & 20\\\\\n",
       "\t 15 & 46\\\\\n",
       "\\end{tabular}\n"
      ],
      "text/markdown": [
       "\n",
       "|  5 | 20 |\n",
       "| 15 | 46 |\n",
       "\n"
      ],
      "text/plain": [
       "     [,1] [,2]\n",
       "[1,]  5   20  \n",
       "[2,] 15   46  "
      ]
     },
     "metadata": {},
     "output_type": "display_data"
    }
   ],
   "source": [
    "my.array1 %*% my.array2"
   ]
  },
  {
   "cell_type": "markdown",
   "metadata": {},
   "source": [
    "**Example 2**"
   ]
  },
  {
   "cell_type": "code",
   "execution_count": 115,
   "metadata": {},
   "outputs": [
    {
     "data": {
      "text/html": [
       "<table>\n",
       "<tbody>\n",
       "\t<tr><td>1 </td><td>5 </td><td> 9</td><td>13</td><td>17</td></tr>\n",
       "\t<tr><td>2 </td><td>6 </td><td>10</td><td>14</td><td>18</td></tr>\n",
       "\t<tr><td>3 </td><td>7 </td><td>11</td><td>15</td><td>19</td></tr>\n",
       "\t<tr><td>4 </td><td>8 </td><td>12</td><td>16</td><td>20</td></tr>\n",
       "</tbody>\n",
       "</table>\n"
      ],
      "text/latex": [
       "\\begin{tabular}{lllll}\n",
       "\t 1  & 5  &  9 & 13 & 17\\\\\n",
       "\t 2  & 6  & 10 & 14 & 18\\\\\n",
       "\t 3  & 7  & 11 & 15 & 19\\\\\n",
       "\t 4  & 8  & 12 & 16 & 20\\\\\n",
       "\\end{tabular}\n"
      ],
      "text/markdown": [
       "\n",
       "| 1  | 5  |  9 | 13 | 17 |\n",
       "| 2  | 6  | 10 | 14 | 18 |\n",
       "| 3  | 7  | 11 | 15 | 19 |\n",
       "| 4  | 8  | 12 | 16 | 20 |\n",
       "\n"
      ],
      "text/plain": [
       "     [,1] [,2] [,3] [,4] [,5]\n",
       "[1,] 1    5     9   13   17  \n",
       "[2,] 2    6    10   14   18  \n",
       "[3,] 3    7    11   15   19  \n",
       "[4,] 4    8    12   16   20  "
      ]
     },
     "metadata": {},
     "output_type": "display_data"
    }
   ],
   "source": [
    "x <- array(seq(1, 20), dim=c(4, 5))\n",
    "x"
   ]
  },
  {
   "cell_type": "code",
   "execution_count": 116,
   "metadata": {},
   "outputs": [
    {
     "data": {
      "text/html": [
       "<table>\n",
       "<tbody>\n",
       "\t<tr><td>565</td></tr>\n",
       "</tbody>\n",
       "</table>\n"
      ],
      "text/latex": [
       "\\begin{tabular}{l}\n",
       "\t 565\\\\\n",
       "\\end{tabular}\n"
      ],
      "text/markdown": [
       "\n",
       "| 565 |\n",
       "\n"
      ],
      "text/plain": [
       "     [,1]\n",
       "[1,] 565 "
      ]
     },
     "metadata": {},
     "output_type": "display_data"
    }
   ],
   "source": [
    "x[1, ] %*% x[1, ]"
   ]
  },
  {
   "cell_type": "code",
   "execution_count": 117,
   "metadata": {},
   "outputs": [
    {
     "data": {
      "text/html": [
       "565"
      ],
      "text/latex": [
       "565"
      ],
      "text/markdown": [
       "565"
      ],
      "text/plain": [
       "[1] 565"
      ]
     },
     "metadata": {},
     "output_type": "display_data"
    }
   ],
   "source": [
    "# test\n",
    "1*1 + 5*5 + 9*9 + 13*13 + 17*17"
   ]
  },
  {
   "cell_type": "code",
   "execution_count": 118,
   "metadata": {},
   "outputs": [
    {
     "data": {
      "text/html": [
       "<table>\n",
       "<tbody>\n",
       "\t<tr><td> 1</td><td> 2</td><td> 3</td><td> 4</td></tr>\n",
       "\t<tr><td> 5</td><td> 6</td><td> 7</td><td> 8</td></tr>\n",
       "\t<tr><td> 9</td><td>10</td><td>11</td><td>12</td></tr>\n",
       "\t<tr><td>13</td><td>14</td><td>15</td><td>16</td></tr>\n",
       "\t<tr><td>17</td><td>18</td><td>19</td><td>20</td></tr>\n",
       "</tbody>\n",
       "</table>\n"
      ],
      "text/latex": [
       "\\begin{tabular}{llll}\n",
       "\t  1 &  2 &  3 &  4\\\\\n",
       "\t  5 &  6 &  7 &  8\\\\\n",
       "\t  9 & 10 & 11 & 12\\\\\n",
       "\t 13 & 14 & 15 & 16\\\\\n",
       "\t 17 & 18 & 19 & 20\\\\\n",
       "\\end{tabular}\n"
      ],
      "text/markdown": [
       "\n",
       "|  1 |  2 |  3 |  4 |\n",
       "|  5 |  6 |  7 |  8 |\n",
       "|  9 | 10 | 11 | 12 |\n",
       "| 13 | 14 | 15 | 16 |\n",
       "| 17 | 18 | 19 | 20 |\n",
       "\n"
      ],
      "text/plain": [
       "     [,1] [,2] [,3] [,4]\n",
       "[1,]  1    2    3    4  \n",
       "[2,]  5    6    7    8  \n",
       "[3,]  9   10   11   12  \n",
       "[4,] 13   14   15   16  \n",
       "[5,] 17   18   19   20  "
      ]
     },
     "metadata": {},
     "output_type": "display_data"
    }
   ],
   "source": [
    "# 转置\n",
    "t(x)"
   ]
  },
  {
   "cell_type": "code",
   "execution_count": null,
   "metadata": {},
   "outputs": [],
   "source": []
  },
  {
   "cell_type": "markdown",
   "metadata": {},
   "source": [
    "<a id='array4'></a>\n",
    "**行拼接和列拼接 `rbind` & `cbind()`**\n",
    "\n",
    "**Example 1**"
   ]
  },
  {
   "cell_type": "code",
   "execution_count": 87,
   "metadata": {},
   "outputs": [
    {
     "data": {
      "text/html": [
       "<ol class=list-inline>\n",
       "\t<li>1</li>\n",
       "\t<li>2</li>\n",
       "\t<li>3</li>\n",
       "</ol>\n"
      ],
      "text/latex": [
       "\\begin{enumerate*}\n",
       "\\item 1\n",
       "\\item 2\n",
       "\\item 3\n",
       "\\end{enumerate*}\n"
      ],
      "text/markdown": [
       "1. 1\n",
       "2. 2\n",
       "3. 3\n",
       "\n",
       "\n"
      ],
      "text/plain": [
       "[1] 1 2 3"
      ]
     },
     "metadata": {},
     "output_type": "display_data"
    },
    {
     "data": {
      "text/html": [
       "<ol class=list-inline>\n",
       "\t<li>10</li>\n",
       "\t<li>11</li>\n",
       "\t<li>12</li>\n",
       "</ol>\n"
      ],
      "text/latex": [
       "\\begin{enumerate*}\n",
       "\\item 10\n",
       "\\item 11\n",
       "\\item 12\n",
       "\\end{enumerate*}\n"
      ],
      "text/markdown": [
       "1. 10\n",
       "2. 11\n",
       "3. 12\n",
       "\n",
       "\n"
      ],
      "text/plain": [
       "[1] 10 11 12"
      ]
     },
     "metadata": {},
     "output_type": "display_data"
    }
   ],
   "source": [
    "x = 1:3\n",
    "y = 10:12\n",
    "x\n",
    "y"
   ]
  },
  {
   "cell_type": "code",
   "execution_count": 88,
   "metadata": {},
   "outputs": [
    {
     "data": {
      "text/html": [
       "<table>\n",
       "<thead><tr><th scope=col>x</th><th scope=col>y</th></tr></thead>\n",
       "<tbody>\n",
       "\t<tr><td>1 </td><td>10</td></tr>\n",
       "\t<tr><td>2 </td><td>11</td></tr>\n",
       "\t<tr><td>3 </td><td>12</td></tr>\n",
       "</tbody>\n",
       "</table>\n"
      ],
      "text/latex": [
       "\\begin{tabular}{ll}\n",
       " x & y\\\\\n",
       "\\hline\n",
       "\t 1  & 10\\\\\n",
       "\t 2  & 11\\\\\n",
       "\t 3  & 12\\\\\n",
       "\\end{tabular}\n"
      ],
      "text/markdown": [
       "\n",
       "| x | y |\n",
       "|---|---|\n",
       "| 1  | 10 |\n",
       "| 2  | 11 |\n",
       "| 3  | 12 |\n",
       "\n"
      ],
      "text/plain": [
       "     x y \n",
       "[1,] 1 10\n",
       "[2,] 2 11\n",
       "[3,] 3 12"
      ]
     },
     "metadata": {},
     "output_type": "display_data"
    }
   ],
   "source": [
    "cbind(x, y)"
   ]
  },
  {
   "cell_type": "code",
   "execution_count": 89,
   "metadata": {},
   "outputs": [
    {
     "data": {
      "text/html": [
       "<table>\n",
       "<tbody>\n",
       "\t<tr><th scope=row>x</th><td> 1</td><td> 2</td><td> 3</td></tr>\n",
       "\t<tr><th scope=row>y</th><td>10</td><td>11</td><td>12</td></tr>\n",
       "</tbody>\n",
       "</table>\n"
      ],
      "text/latex": [
       "\\begin{tabular}{r|lll}\n",
       "\tx &  1 &  2 &  3\\\\\n",
       "\ty & 10 & 11 & 12\\\\\n",
       "\\end{tabular}\n"
      ],
      "text/markdown": [
       "\n",
       "| x |  1 |  2 |  3 |\n",
       "| y | 10 | 11 | 12 |\n",
       "\n"
      ],
      "text/plain": [
       "  [,1] [,2] [,3]\n",
       "x  1    2    3  \n",
       "y 10   11   12  "
      ]
     },
     "metadata": {},
     "output_type": "display_data"
    }
   ],
   "source": [
    "rbind(x, y)"
   ]
  },
  {
   "cell_type": "markdown",
   "metadata": {},
   "source": [
    "**Example 2**"
   ]
  },
  {
   "cell_type": "code",
   "execution_count": 92,
   "metadata": {},
   "outputs": [
    {
     "data": {
      "text/html": [
       "<table>\n",
       "<tbody>\n",
       "\t<tr><td> 1</td><td>0 </td></tr>\n",
       "\t<tr><td>-3</td><td>2 </td></tr>\n",
       "</tbody>\n",
       "</table>\n"
      ],
      "text/latex": [
       "\\begin{tabular}{ll}\n",
       "\t  1 & 0 \\\\\n",
       "\t -3 & 2 \\\\\n",
       "\\end{tabular}\n"
      ],
      "text/markdown": [
       "\n",
       "|  1 | 0  |\n",
       "| -3 | 2  |\n",
       "\n"
      ],
      "text/plain": [
       "     [,1] [,2]\n",
       "[1,]  1   0   \n",
       "[2,] -3   2   "
      ]
     },
     "metadata": {},
     "output_type": "display_data"
    }
   ],
   "source": [
    "array1 <- array(c(1, -3, 0, 2), dim=c(2,2))\n",
    "array1"
   ]
  },
  {
   "cell_type": "code",
   "execution_count": 93,
   "metadata": {},
   "outputs": [
    {
     "data": {
      "text/html": [
       "<ol class=list-inline>\n",
       "\t<li>1</li>\n",
       "\t<li>0</li>\n",
       "</ol>\n"
      ],
      "text/latex": [
       "\\begin{enumerate*}\n",
       "\\item 1\n",
       "\\item 0\n",
       "\\end{enumerate*}\n"
      ],
      "text/markdown": [
       "1. 1\n",
       "2. 0\n",
       "\n",
       "\n"
      ],
      "text/plain": [
       "[1] 1 0"
      ]
     },
     "metadata": {},
     "output_type": "display_data"
    }
   ],
   "source": [
    "array1[1, ] # pulls the first row"
   ]
  },
  {
   "cell_type": "code",
   "execution_count": 94,
   "metadata": {},
   "outputs": [
    {
     "data": {
      "text/html": [
       "<ol class=list-inline>\n",
       "\t<li>1</li>\n",
       "\t<li>-3</li>\n",
       "</ol>\n"
      ],
      "text/latex": [
       "\\begin{enumerate*}\n",
       "\\item 1\n",
       "\\item -3\n",
       "\\end{enumerate*}\n"
      ],
      "text/markdown": [
       "1. 1\n",
       "2. -3\n",
       "\n",
       "\n"
      ],
      "text/plain": [
       "[1]  1 -3"
      ]
     },
     "metadata": {},
     "output_type": "display_data"
    }
   ],
   "source": [
    "array1[, 1]"
   ]
  },
  {
   "cell_type": "code",
   "execution_count": 96,
   "metadata": {},
   "outputs": [
    {
     "data": {
      "text/html": [
       "<table>\n",
       "<tbody>\n",
       "\t<tr><td> 1</td><td>1 </td></tr>\n",
       "\t<tr><td>-3</td><td>0 </td></tr>\n",
       "</tbody>\n",
       "</table>\n"
      ],
      "text/latex": [
       "\\begin{tabular}{ll}\n",
       "\t  1 & 1 \\\\\n",
       "\t -3 & 0 \\\\\n",
       "\\end{tabular}\n"
      ],
      "text/markdown": [
       "\n",
       "|  1 | 1  |\n",
       "| -3 | 0  |\n",
       "\n"
      ],
      "text/plain": [
       "     [,1] [,2]\n",
       "[1,]  1   1   \n",
       "[2,] -3   0   "
      ]
     },
     "metadata": {},
     "output_type": "display_data"
    }
   ],
   "source": [
    "cbind(array1[ ,1], array1[1, ])"
   ]
  },
  {
   "cell_type": "code",
   "execution_count": 97,
   "metadata": {},
   "outputs": [
    {
     "data": {
      "text/html": [
       "<table>\n",
       "<tbody>\n",
       "\t<tr><td>1 </td><td>-3</td></tr>\n",
       "\t<tr><td>1 </td><td> 0</td></tr>\n",
       "</tbody>\n",
       "</table>\n"
      ],
      "text/latex": [
       "\\begin{tabular}{ll}\n",
       "\t 1  & -3\\\\\n",
       "\t 1  &  0\\\\\n",
       "\\end{tabular}\n"
      ],
      "text/markdown": [
       "\n",
       "| 1  | -3 |\n",
       "| 1  |  0 |\n",
       "\n"
      ],
      "text/plain": [
       "     [,1] [,2]\n",
       "[1,] 1    -3  \n",
       "[2,] 1     0  "
      ]
     },
     "metadata": {},
     "output_type": "display_data"
    }
   ],
   "source": [
    "rbind(array1[ ,1], array1[1, ])"
   ]
  },
  {
   "cell_type": "markdown",
   "metadata": {},
   "source": [
    "<a id='df'></a>\n",
    "**XII. DataFrame**\n",
    "\n",
    "**Commonly Used Commands:**\n",
    "1. `head(iris, 7)` - returns top 7 rows of the dataframe\n",
    "\n",
    "\n",
    "2. `tail(iris, 3)` - returns last 3 rows of the dataframe\n",
    "\n",
    "\n",
    "3. `dim(iris)` - returns the number of rows and columns in the dataframe\n",
    "\n",
    "\n",
    "4. `summary(iris)` - returns all the summary statistics for every column in the dataframe\n",
    "\n",
    "\n",
    "5. `iris$Sepal.Length` - returns the Sepal.Length column (we can do this with any column and the `$`)\n",
    "\n",
    "\n",
    "6. `min(iris$Sepal.Length)` - returns the min value in the `Sepal.Length` column\n",
    "    \n",
    "    There are similar functions `mean()`, `max()`, `median()`, `sd()`, etc.\n",
    "\n",
    "\n",
    "7. `subset(iris, Species=='virginica' & Petal.Length > 5)` - returns rows meeting these criteria\n",
    "\n",
    "\n",
    "8. `names(iris)` - show column names\n",
    "\n",
    "\n",
    "9. `colMeans(iris[, 1:4])` - Means of all four numeric columns"
   ]
  },
  {
   "cell_type": "code",
   "execution_count": 127,
   "metadata": {
    "graffitiCellId": "id_6fhjf95"
   },
   "outputs": [
    {
     "data": {
      "text/html": [
       "<table>\n",
       "<thead><tr><th scope=col>Sepal.Length</th><th scope=col>Sepal.Width</th><th scope=col>Petal.Length</th><th scope=col>Petal.Width</th><th scope=col>Species</th></tr></thead>\n",
       "<tbody>\n",
       "\t<tr><td>5.1   </td><td>3.5   </td><td>1.4   </td><td>0.2   </td><td>setosa</td></tr>\n",
       "\t<tr><td>4.9   </td><td>3.0   </td><td>1.4   </td><td>0.2   </td><td>setosa</td></tr>\n",
       "\t<tr><td>4.7   </td><td>3.2   </td><td>1.3   </td><td>0.2   </td><td>setosa</td></tr>\n",
       "\t<tr><td>4.6   </td><td>3.1   </td><td>1.5   </td><td>0.2   </td><td>setosa</td></tr>\n",
       "\t<tr><td>5.0   </td><td>3.6   </td><td>1.4   </td><td>0.2   </td><td>setosa</td></tr>\n",
       "\t<tr><td>5.4   </td><td>3.9   </td><td>1.7   </td><td>0.4   </td><td>setosa</td></tr>\n",
       "</tbody>\n",
       "</table>\n"
      ],
      "text/latex": [
       "\\begin{tabular}{r|lllll}\n",
       " Sepal.Length & Sepal.Width & Petal.Length & Petal.Width & Species\\\\\n",
       "\\hline\n",
       "\t 5.1    & 3.5    & 1.4    & 0.2    & setosa\\\\\n",
       "\t 4.9    & 3.0    & 1.4    & 0.2    & setosa\\\\\n",
       "\t 4.7    & 3.2    & 1.3    & 0.2    & setosa\\\\\n",
       "\t 4.6    & 3.1    & 1.5    & 0.2    & setosa\\\\\n",
       "\t 5.0    & 3.6    & 1.4    & 0.2    & setosa\\\\\n",
       "\t 5.4    & 3.9    & 1.7    & 0.4    & setosa\\\\\n",
       "\\end{tabular}\n"
      ],
      "text/markdown": [
       "\n",
       "| Sepal.Length | Sepal.Width | Petal.Length | Petal.Width | Species |\n",
       "|---|---|---|---|---|\n",
       "| 5.1    | 3.5    | 1.4    | 0.2    | setosa |\n",
       "| 4.9    | 3.0    | 1.4    | 0.2    | setosa |\n",
       "| 4.7    | 3.2    | 1.3    | 0.2    | setosa |\n",
       "| 4.6    | 3.1    | 1.5    | 0.2    | setosa |\n",
       "| 5.0    | 3.6    | 1.4    | 0.2    | setosa |\n",
       "| 5.4    | 3.9    | 1.7    | 0.4    | setosa |\n",
       "\n"
      ],
      "text/plain": [
       "  Sepal.Length Sepal.Width Petal.Length Petal.Width Species\n",
       "1 5.1          3.5         1.4          0.2         setosa \n",
       "2 4.9          3.0         1.4          0.2         setosa \n",
       "3 4.7          3.2         1.3          0.2         setosa \n",
       "4 4.6          3.1         1.5          0.2         setosa \n",
       "5 5.0          3.6         1.4          0.2         setosa \n",
       "6 5.4          3.9         1.7          0.4         setosa "
      ]
     },
     "metadata": {},
     "output_type": "display_data"
    }
   ],
   "source": [
    "head(iris)"
   ]
  },
  {
   "cell_type": "code",
   "execution_count": 128,
   "metadata": {
    "graffitiCellId": "id_24aypdr"
   },
   "outputs": [
    {
     "data": {
      "text/html": [
       "<table>\n",
       "<thead><tr><th></th><th scope=col>Sepal.Length</th><th scope=col>Sepal.Width</th><th scope=col>Petal.Length</th><th scope=col>Petal.Width</th><th scope=col>Species</th></tr></thead>\n",
       "<tbody>\n",
       "\t<tr><th scope=row>145</th><td>6.7      </td><td>3.3      </td><td>5.7      </td><td>2.5      </td><td>virginica</td></tr>\n",
       "\t<tr><th scope=row>146</th><td>6.7      </td><td>3.0      </td><td>5.2      </td><td>2.3      </td><td>virginica</td></tr>\n",
       "\t<tr><th scope=row>147</th><td>6.3      </td><td>2.5      </td><td>5.0      </td><td>1.9      </td><td>virginica</td></tr>\n",
       "\t<tr><th scope=row>148</th><td>6.5      </td><td>3.0      </td><td>5.2      </td><td>2.0      </td><td>virginica</td></tr>\n",
       "\t<tr><th scope=row>149</th><td>6.2      </td><td>3.4      </td><td>5.4      </td><td>2.3      </td><td>virginica</td></tr>\n",
       "\t<tr><th scope=row>150</th><td>5.9      </td><td>3.0      </td><td>5.1      </td><td>1.8      </td><td>virginica</td></tr>\n",
       "</tbody>\n",
       "</table>\n"
      ],
      "text/latex": [
       "\\begin{tabular}{r|lllll}\n",
       "  & Sepal.Length & Sepal.Width & Petal.Length & Petal.Width & Species\\\\\n",
       "\\hline\n",
       "\t145 & 6.7       & 3.3       & 5.7       & 2.5       & virginica\\\\\n",
       "\t146 & 6.7       & 3.0       & 5.2       & 2.3       & virginica\\\\\n",
       "\t147 & 6.3       & 2.5       & 5.0       & 1.9       & virginica\\\\\n",
       "\t148 & 6.5       & 3.0       & 5.2       & 2.0       & virginica\\\\\n",
       "\t149 & 6.2       & 3.4       & 5.4       & 2.3       & virginica\\\\\n",
       "\t150 & 5.9       & 3.0       & 5.1       & 1.8       & virginica\\\\\n",
       "\\end{tabular}\n"
      ],
      "text/markdown": [
       "\n",
       "| <!--/--> | Sepal.Length | Sepal.Width | Petal.Length | Petal.Width | Species |\n",
       "|---|---|---|---|---|---|\n",
       "| 145 | 6.7       | 3.3       | 5.7       | 2.5       | virginica |\n",
       "| 146 | 6.7       | 3.0       | 5.2       | 2.3       | virginica |\n",
       "| 147 | 6.3       | 2.5       | 5.0       | 1.9       | virginica |\n",
       "| 148 | 6.5       | 3.0       | 5.2       | 2.0       | virginica |\n",
       "| 149 | 6.2       | 3.4       | 5.4       | 2.3       | virginica |\n",
       "| 150 | 5.9       | 3.0       | 5.1       | 1.8       | virginica |\n",
       "\n"
      ],
      "text/plain": [
       "    Sepal.Length Sepal.Width Petal.Length Petal.Width Species  \n",
       "145 6.7          3.3         5.7          2.5         virginica\n",
       "146 6.7          3.0         5.2          2.3         virginica\n",
       "147 6.3          2.5         5.0          1.9         virginica\n",
       "148 6.5          3.0         5.2          2.0         virginica\n",
       "149 6.2          3.4         5.4          2.3         virginica\n",
       "150 5.9          3.0         5.1          1.8         virginica"
      ]
     },
     "metadata": {},
     "output_type": "display_data"
    }
   ],
   "source": [
    "tail(iris)"
   ]
  },
  {
   "cell_type": "code",
   "execution_count": 129,
   "metadata": {
    "graffitiCellId": "id_5uordkp"
   },
   "outputs": [
    {
     "data": {
      "text/html": [
       "<table>\n",
       "<thead><tr><th scope=col>Sepal.Length</th><th scope=col>Sepal.Width</th><th scope=col>Petal.Length</th><th scope=col>Petal.Width</th><th scope=col>Species</th></tr></thead>\n",
       "<tbody>\n",
       "\t<tr><td>5.1   </td><td>3.5   </td><td>1.4   </td><td>0.2   </td><td>setosa</td></tr>\n",
       "\t<tr><td>4.9   </td><td>3.0   </td><td>1.4   </td><td>0.2   </td><td>setosa</td></tr>\n",
       "\t<tr><td>4.7   </td><td>3.2   </td><td>1.3   </td><td>0.2   </td><td>setosa</td></tr>\n",
       "\t<tr><td>4.6   </td><td>3.1   </td><td>1.5   </td><td>0.2   </td><td>setosa</td></tr>\n",
       "\t<tr><td>5.0   </td><td>3.6   </td><td>1.4   </td><td>0.2   </td><td>setosa</td></tr>\n",
       "\t<tr><td>5.4   </td><td>3.9   </td><td>1.7   </td><td>0.4   </td><td>setosa</td></tr>\n",
       "\t<tr><td>4.6   </td><td>3.4   </td><td>1.4   </td><td>0.3   </td><td>setosa</td></tr>\n",
       "\t<tr><td>5.0   </td><td>3.4   </td><td>1.5   </td><td>0.2   </td><td>setosa</td></tr>\n",
       "\t<tr><td>4.4   </td><td>2.9   </td><td>1.4   </td><td>0.2   </td><td>setosa</td></tr>\n",
       "\t<tr><td>4.9   </td><td>3.1   </td><td>1.5   </td><td>0.1   </td><td>setosa</td></tr>\n",
       "</tbody>\n",
       "</table>\n"
      ],
      "text/latex": [
       "\\begin{tabular}{r|lllll}\n",
       " Sepal.Length & Sepal.Width & Petal.Length & Petal.Width & Species\\\\\n",
       "\\hline\n",
       "\t 5.1    & 3.5    & 1.4    & 0.2    & setosa\\\\\n",
       "\t 4.9    & 3.0    & 1.4    & 0.2    & setosa\\\\\n",
       "\t 4.7    & 3.2    & 1.3    & 0.2    & setosa\\\\\n",
       "\t 4.6    & 3.1    & 1.5    & 0.2    & setosa\\\\\n",
       "\t 5.0    & 3.6    & 1.4    & 0.2    & setosa\\\\\n",
       "\t 5.4    & 3.9    & 1.7    & 0.4    & setosa\\\\\n",
       "\t 4.6    & 3.4    & 1.4    & 0.3    & setosa\\\\\n",
       "\t 5.0    & 3.4    & 1.5    & 0.2    & setosa\\\\\n",
       "\t 4.4    & 2.9    & 1.4    & 0.2    & setosa\\\\\n",
       "\t 4.9    & 3.1    & 1.5    & 0.1    & setosa\\\\\n",
       "\\end{tabular}\n"
      ],
      "text/markdown": [
       "\n",
       "| Sepal.Length | Sepal.Width | Petal.Length | Petal.Width | Species |\n",
       "|---|---|---|---|---|\n",
       "| 5.1    | 3.5    | 1.4    | 0.2    | setosa |\n",
       "| 4.9    | 3.0    | 1.4    | 0.2    | setosa |\n",
       "| 4.7    | 3.2    | 1.3    | 0.2    | setosa |\n",
       "| 4.6    | 3.1    | 1.5    | 0.2    | setosa |\n",
       "| 5.0    | 3.6    | 1.4    | 0.2    | setosa |\n",
       "| 5.4    | 3.9    | 1.7    | 0.4    | setosa |\n",
       "| 4.6    | 3.4    | 1.4    | 0.3    | setosa |\n",
       "| 5.0    | 3.4    | 1.5    | 0.2    | setosa |\n",
       "| 4.4    | 2.9    | 1.4    | 0.2    | setosa |\n",
       "| 4.9    | 3.1    | 1.5    | 0.1    | setosa |\n",
       "\n"
      ],
      "text/plain": [
       "   Sepal.Length Sepal.Width Petal.Length Petal.Width Species\n",
       "1  5.1          3.5         1.4          0.2         setosa \n",
       "2  4.9          3.0         1.4          0.2         setosa \n",
       "3  4.7          3.2         1.3          0.2         setosa \n",
       "4  4.6          3.1         1.5          0.2         setosa \n",
       "5  5.0          3.6         1.4          0.2         setosa \n",
       "6  5.4          3.9         1.7          0.4         setosa \n",
       "7  4.6          3.4         1.4          0.3         setosa \n",
       "8  5.0          3.4         1.5          0.2         setosa \n",
       "9  4.4          2.9         1.4          0.2         setosa \n",
       "10 4.9          3.1         1.5          0.1         setosa "
      ]
     },
     "metadata": {},
     "output_type": "display_data"
    }
   ],
   "source": [
    "head(iris, 10)"
   ]
  },
  {
   "cell_type": "code",
   "execution_count": 130,
   "metadata": {
    "graffitiCellId": "id_sjgdg08"
   },
   "outputs": [
    {
     "data": {
      "text/html": [
       "<ol class=list-inline>\n",
       "\t<li>'Sepal.Length'</li>\n",
       "\t<li>'Sepal.Width'</li>\n",
       "\t<li>'Petal.Length'</li>\n",
       "\t<li>'Petal.Width'</li>\n",
       "\t<li>'Species'</li>\n",
       "</ol>\n"
      ],
      "text/latex": [
       "\\begin{enumerate*}\n",
       "\\item 'Sepal.Length'\n",
       "\\item 'Sepal.Width'\n",
       "\\item 'Petal.Length'\n",
       "\\item 'Petal.Width'\n",
       "\\item 'Species'\n",
       "\\end{enumerate*}\n"
      ],
      "text/markdown": [
       "1. 'Sepal.Length'\n",
       "2. 'Sepal.Width'\n",
       "3. 'Petal.Length'\n",
       "4. 'Petal.Width'\n",
       "5. 'Species'\n",
       "\n",
       "\n"
      ],
      "text/plain": [
       "[1] \"Sepal.Length\" \"Sepal.Width\"  \"Petal.Length\" \"Petal.Width\"  \"Species\"     "
      ]
     },
     "metadata": {},
     "output_type": "display_data"
    }
   ],
   "source": [
    "names(iris)"
   ]
  },
  {
   "cell_type": "code",
   "execution_count": 131,
   "metadata": {
    "graffitiCellId": "id_z10fvm1"
   },
   "outputs": [
    {
     "data": {
      "text/html": [
       "<ol class=list-inline>\n",
       "\t<li>3.5</li>\n",
       "\t<li>3</li>\n",
       "\t<li>3.2</li>\n",
       "\t<li>3.1</li>\n",
       "\t<li>3.6</li>\n",
       "\t<li>3.9</li>\n",
       "\t<li>3.4</li>\n",
       "\t<li>3.4</li>\n",
       "\t<li>2.9</li>\n",
       "\t<li>3.1</li>\n",
       "\t<li>3.7</li>\n",
       "\t<li>3.4</li>\n",
       "\t<li>3</li>\n",
       "\t<li>3</li>\n",
       "\t<li>4</li>\n",
       "\t<li>4.4</li>\n",
       "\t<li>3.9</li>\n",
       "\t<li>3.5</li>\n",
       "\t<li>3.8</li>\n",
       "\t<li>3.8</li>\n",
       "\t<li>3.4</li>\n",
       "\t<li>3.7</li>\n",
       "\t<li>3.6</li>\n",
       "\t<li>3.3</li>\n",
       "\t<li>3.4</li>\n",
       "\t<li>3</li>\n",
       "\t<li>3.4</li>\n",
       "\t<li>3.5</li>\n",
       "\t<li>3.4</li>\n",
       "\t<li>3.2</li>\n",
       "\t<li>3.1</li>\n",
       "\t<li>3.4</li>\n",
       "\t<li>4.1</li>\n",
       "\t<li>4.2</li>\n",
       "\t<li>3.1</li>\n",
       "\t<li>3.2</li>\n",
       "\t<li>3.5</li>\n",
       "\t<li>3.6</li>\n",
       "\t<li>3</li>\n",
       "\t<li>3.4</li>\n",
       "\t<li>3.5</li>\n",
       "\t<li>2.3</li>\n",
       "\t<li>3.2</li>\n",
       "\t<li>3.5</li>\n",
       "\t<li>3.8</li>\n",
       "\t<li>3</li>\n",
       "\t<li>3.8</li>\n",
       "\t<li>3.2</li>\n",
       "\t<li>3.7</li>\n",
       "\t<li>3.3</li>\n",
       "\t<li>3.2</li>\n",
       "\t<li>3.2</li>\n",
       "\t<li>3.1</li>\n",
       "\t<li>2.3</li>\n",
       "\t<li>2.8</li>\n",
       "\t<li>2.8</li>\n",
       "\t<li>3.3</li>\n",
       "\t<li>2.4</li>\n",
       "\t<li>2.9</li>\n",
       "\t<li>2.7</li>\n",
       "\t<li>2</li>\n",
       "\t<li>3</li>\n",
       "\t<li>2.2</li>\n",
       "\t<li>2.9</li>\n",
       "\t<li>2.9</li>\n",
       "\t<li>3.1</li>\n",
       "\t<li>3</li>\n",
       "\t<li>2.7</li>\n",
       "\t<li>2.2</li>\n",
       "\t<li>2.5</li>\n",
       "\t<li>3.2</li>\n",
       "\t<li>2.8</li>\n",
       "\t<li>2.5</li>\n",
       "\t<li>2.8</li>\n",
       "\t<li>2.9</li>\n",
       "\t<li>3</li>\n",
       "\t<li>2.8</li>\n",
       "\t<li>3</li>\n",
       "\t<li>2.9</li>\n",
       "\t<li>2.6</li>\n",
       "\t<li>2.4</li>\n",
       "\t<li>2.4</li>\n",
       "\t<li>2.7</li>\n",
       "\t<li>2.7</li>\n",
       "\t<li>3</li>\n",
       "\t<li>3.4</li>\n",
       "\t<li>3.1</li>\n",
       "\t<li>2.3</li>\n",
       "\t<li>3</li>\n",
       "\t<li>2.5</li>\n",
       "\t<li>2.6</li>\n",
       "\t<li>3</li>\n",
       "\t<li>2.6</li>\n",
       "\t<li>2.3</li>\n",
       "\t<li>2.7</li>\n",
       "\t<li>3</li>\n",
       "\t<li>2.9</li>\n",
       "\t<li>2.9</li>\n",
       "\t<li>2.5</li>\n",
       "\t<li>2.8</li>\n",
       "\t<li>3.3</li>\n",
       "\t<li>2.7</li>\n",
       "\t<li>3</li>\n",
       "\t<li>2.9</li>\n",
       "\t<li>3</li>\n",
       "\t<li>3</li>\n",
       "\t<li>2.5</li>\n",
       "\t<li>2.9</li>\n",
       "\t<li>2.5</li>\n",
       "\t<li>3.6</li>\n",
       "\t<li>3.2</li>\n",
       "\t<li>2.7</li>\n",
       "\t<li>3</li>\n",
       "\t<li>2.5</li>\n",
       "\t<li>2.8</li>\n",
       "\t<li>3.2</li>\n",
       "\t<li>3</li>\n",
       "\t<li>3.8</li>\n",
       "\t<li>2.6</li>\n",
       "\t<li>2.2</li>\n",
       "\t<li>3.2</li>\n",
       "\t<li>2.8</li>\n",
       "\t<li>2.8</li>\n",
       "\t<li>2.7</li>\n",
       "\t<li>3.3</li>\n",
       "\t<li>3.2</li>\n",
       "\t<li>2.8</li>\n",
       "\t<li>3</li>\n",
       "\t<li>2.8</li>\n",
       "\t<li>3</li>\n",
       "\t<li>2.8</li>\n",
       "\t<li>3.8</li>\n",
       "\t<li>2.8</li>\n",
       "\t<li>2.8</li>\n",
       "\t<li>2.6</li>\n",
       "\t<li>3</li>\n",
       "\t<li>3.4</li>\n",
       "\t<li>3.1</li>\n",
       "\t<li>3</li>\n",
       "\t<li>3.1</li>\n",
       "\t<li>3.1</li>\n",
       "\t<li>3.1</li>\n",
       "\t<li>2.7</li>\n",
       "\t<li>3.2</li>\n",
       "\t<li>3.3</li>\n",
       "\t<li>3</li>\n",
       "\t<li>2.5</li>\n",
       "\t<li>3</li>\n",
       "\t<li>3.4</li>\n",
       "\t<li>3</li>\n",
       "</ol>\n"
      ],
      "text/latex": [
       "\\begin{enumerate*}\n",
       "\\item 3.5\n",
       "\\item 3\n",
       "\\item 3.2\n",
       "\\item 3.1\n",
       "\\item 3.6\n",
       "\\item 3.9\n",
       "\\item 3.4\n",
       "\\item 3.4\n",
       "\\item 2.9\n",
       "\\item 3.1\n",
       "\\item 3.7\n",
       "\\item 3.4\n",
       "\\item 3\n",
       "\\item 3\n",
       "\\item 4\n",
       "\\item 4.4\n",
       "\\item 3.9\n",
       "\\item 3.5\n",
       "\\item 3.8\n",
       "\\item 3.8\n",
       "\\item 3.4\n",
       "\\item 3.7\n",
       "\\item 3.6\n",
       "\\item 3.3\n",
       "\\item 3.4\n",
       "\\item 3\n",
       "\\item 3.4\n",
       "\\item 3.5\n",
       "\\item 3.4\n",
       "\\item 3.2\n",
       "\\item 3.1\n",
       "\\item 3.4\n",
       "\\item 4.1\n",
       "\\item 4.2\n",
       "\\item 3.1\n",
       "\\item 3.2\n",
       "\\item 3.5\n",
       "\\item 3.6\n",
       "\\item 3\n",
       "\\item 3.4\n",
       "\\item 3.5\n",
       "\\item 2.3\n",
       "\\item 3.2\n",
       "\\item 3.5\n",
       "\\item 3.8\n",
       "\\item 3\n",
       "\\item 3.8\n",
       "\\item 3.2\n",
       "\\item 3.7\n",
       "\\item 3.3\n",
       "\\item 3.2\n",
       "\\item 3.2\n",
       "\\item 3.1\n",
       "\\item 2.3\n",
       "\\item 2.8\n",
       "\\item 2.8\n",
       "\\item 3.3\n",
       "\\item 2.4\n",
       "\\item 2.9\n",
       "\\item 2.7\n",
       "\\item 2\n",
       "\\item 3\n",
       "\\item 2.2\n",
       "\\item 2.9\n",
       "\\item 2.9\n",
       "\\item 3.1\n",
       "\\item 3\n",
       "\\item 2.7\n",
       "\\item 2.2\n",
       "\\item 2.5\n",
       "\\item 3.2\n",
       "\\item 2.8\n",
       "\\item 2.5\n",
       "\\item 2.8\n",
       "\\item 2.9\n",
       "\\item 3\n",
       "\\item 2.8\n",
       "\\item 3\n",
       "\\item 2.9\n",
       "\\item 2.6\n",
       "\\item 2.4\n",
       "\\item 2.4\n",
       "\\item 2.7\n",
       "\\item 2.7\n",
       "\\item 3\n",
       "\\item 3.4\n",
       "\\item 3.1\n",
       "\\item 2.3\n",
       "\\item 3\n",
       "\\item 2.5\n",
       "\\item 2.6\n",
       "\\item 3\n",
       "\\item 2.6\n",
       "\\item 2.3\n",
       "\\item 2.7\n",
       "\\item 3\n",
       "\\item 2.9\n",
       "\\item 2.9\n",
       "\\item 2.5\n",
       "\\item 2.8\n",
       "\\item 3.3\n",
       "\\item 2.7\n",
       "\\item 3\n",
       "\\item 2.9\n",
       "\\item 3\n",
       "\\item 3\n",
       "\\item 2.5\n",
       "\\item 2.9\n",
       "\\item 2.5\n",
       "\\item 3.6\n",
       "\\item 3.2\n",
       "\\item 2.7\n",
       "\\item 3\n",
       "\\item 2.5\n",
       "\\item 2.8\n",
       "\\item 3.2\n",
       "\\item 3\n",
       "\\item 3.8\n",
       "\\item 2.6\n",
       "\\item 2.2\n",
       "\\item 3.2\n",
       "\\item 2.8\n",
       "\\item 2.8\n",
       "\\item 2.7\n",
       "\\item 3.3\n",
       "\\item 3.2\n",
       "\\item 2.8\n",
       "\\item 3\n",
       "\\item 2.8\n",
       "\\item 3\n",
       "\\item 2.8\n",
       "\\item 3.8\n",
       "\\item 2.8\n",
       "\\item 2.8\n",
       "\\item 2.6\n",
       "\\item 3\n",
       "\\item 3.4\n",
       "\\item 3.1\n",
       "\\item 3\n",
       "\\item 3.1\n",
       "\\item 3.1\n",
       "\\item 3.1\n",
       "\\item 2.7\n",
       "\\item 3.2\n",
       "\\item 3.3\n",
       "\\item 3\n",
       "\\item 2.5\n",
       "\\item 3\n",
       "\\item 3.4\n",
       "\\item 3\n",
       "\\end{enumerate*}\n"
      ],
      "text/markdown": [
       "1. 3.5\n",
       "2. 3\n",
       "3. 3.2\n",
       "4. 3.1\n",
       "5. 3.6\n",
       "6. 3.9\n",
       "7. 3.4\n",
       "8. 3.4\n",
       "9. 2.9\n",
       "10. 3.1\n",
       "11. 3.7\n",
       "12. 3.4\n",
       "13. 3\n",
       "14. 3\n",
       "15. 4\n",
       "16. 4.4\n",
       "17. 3.9\n",
       "18. 3.5\n",
       "19. 3.8\n",
       "20. 3.8\n",
       "21. 3.4\n",
       "22. 3.7\n",
       "23. 3.6\n",
       "24. 3.3\n",
       "25. 3.4\n",
       "26. 3\n",
       "27. 3.4\n",
       "28. 3.5\n",
       "29. 3.4\n",
       "30. 3.2\n",
       "31. 3.1\n",
       "32. 3.4\n",
       "33. 4.1\n",
       "34. 4.2\n",
       "35. 3.1\n",
       "36. 3.2\n",
       "37. 3.5\n",
       "38. 3.6\n",
       "39. 3\n",
       "40. 3.4\n",
       "41. 3.5\n",
       "42. 2.3\n",
       "43. 3.2\n",
       "44. 3.5\n",
       "45. 3.8\n",
       "46. 3\n",
       "47. 3.8\n",
       "48. 3.2\n",
       "49. 3.7\n",
       "50. 3.3\n",
       "51. 3.2\n",
       "52. 3.2\n",
       "53. 3.1\n",
       "54. 2.3\n",
       "55. 2.8\n",
       "56. 2.8\n",
       "57. 3.3\n",
       "58. 2.4\n",
       "59. 2.9\n",
       "60. 2.7\n",
       "61. 2\n",
       "62. 3\n",
       "63. 2.2\n",
       "64. 2.9\n",
       "65. 2.9\n",
       "66. 3.1\n",
       "67. 3\n",
       "68. 2.7\n",
       "69. 2.2\n",
       "70. 2.5\n",
       "71. 3.2\n",
       "72. 2.8\n",
       "73. 2.5\n",
       "74. 2.8\n",
       "75. 2.9\n",
       "76. 3\n",
       "77. 2.8\n",
       "78. 3\n",
       "79. 2.9\n",
       "80. 2.6\n",
       "81. 2.4\n",
       "82. 2.4\n",
       "83. 2.7\n",
       "84. 2.7\n",
       "85. 3\n",
       "86. 3.4\n",
       "87. 3.1\n",
       "88. 2.3\n",
       "89. 3\n",
       "90. 2.5\n",
       "91. 2.6\n",
       "92. 3\n",
       "93. 2.6\n",
       "94. 2.3\n",
       "95. 2.7\n",
       "96. 3\n",
       "97. 2.9\n",
       "98. 2.9\n",
       "99. 2.5\n",
       "100. 2.8\n",
       "101. 3.3\n",
       "102. 2.7\n",
       "103. 3\n",
       "104. 2.9\n",
       "105. 3\n",
       "106. 3\n",
       "107. 2.5\n",
       "108. 2.9\n",
       "109. 2.5\n",
       "110. 3.6\n",
       "111. 3.2\n",
       "112. 2.7\n",
       "113. 3\n",
       "114. 2.5\n",
       "115. 2.8\n",
       "116. 3.2\n",
       "117. 3\n",
       "118. 3.8\n",
       "119. 2.6\n",
       "120. 2.2\n",
       "121. 3.2\n",
       "122. 2.8\n",
       "123. 2.8\n",
       "124. 2.7\n",
       "125. 3.3\n",
       "126. 3.2\n",
       "127. 2.8\n",
       "128. 3\n",
       "129. 2.8\n",
       "130. 3\n",
       "131. 2.8\n",
       "132. 3.8\n",
       "133. 2.8\n",
       "134. 2.8\n",
       "135. 2.6\n",
       "136. 3\n",
       "137. 3.4\n",
       "138. 3.1\n",
       "139. 3\n",
       "140. 3.1\n",
       "141. 3.1\n",
       "142. 3.1\n",
       "143. 2.7\n",
       "144. 3.2\n",
       "145. 3.3\n",
       "146. 3\n",
       "147. 2.5\n",
       "148. 3\n",
       "149. 3.4\n",
       "150. 3\n",
       "\n",
       "\n"
      ],
      "text/plain": [
       "  [1] 3.5 3.0 3.2 3.1 3.6 3.9 3.4 3.4 2.9 3.1 3.7 3.4 3.0 3.0 4.0 4.4 3.9 3.5\n",
       " [19] 3.8 3.8 3.4 3.7 3.6 3.3 3.4 3.0 3.4 3.5 3.4 3.2 3.1 3.4 4.1 4.2 3.1 3.2\n",
       " [37] 3.5 3.6 3.0 3.4 3.5 2.3 3.2 3.5 3.8 3.0 3.8 3.2 3.7 3.3 3.2 3.2 3.1 2.3\n",
       " [55] 2.8 2.8 3.3 2.4 2.9 2.7 2.0 3.0 2.2 2.9 2.9 3.1 3.0 2.7 2.2 2.5 3.2 2.8\n",
       " [73] 2.5 2.8 2.9 3.0 2.8 3.0 2.9 2.6 2.4 2.4 2.7 2.7 3.0 3.4 3.1 2.3 3.0 2.5\n",
       " [91] 2.6 3.0 2.6 2.3 2.7 3.0 2.9 2.9 2.5 2.8 3.3 2.7 3.0 2.9 3.0 3.0 2.5 2.9\n",
       "[109] 2.5 3.6 3.2 2.7 3.0 2.5 2.8 3.2 3.0 3.8 2.6 2.2 3.2 2.8 2.8 2.7 3.3 3.2\n",
       "[127] 2.8 3.0 2.8 3.0 2.8 3.8 2.8 2.8 2.6 3.0 3.4 3.1 3.0 3.1 3.1 3.1 2.7 3.2\n",
       "[145] 3.3 3.0 2.5 3.0 3.4 3.0"
      ]
     },
     "metadata": {},
     "output_type": "display_data"
    }
   ],
   "source": [
    "iris$Sepal.Width"
   ]
  },
  {
   "cell_type": "code",
   "execution_count": 132,
   "metadata": {
    "graffitiCellId": "id_1bggm5p"
   },
   "outputs": [
    {
     "data": {
      "text/html": [
       "3.05733333333333"
      ],
      "text/latex": [
       "3.05733333333333"
      ],
      "text/markdown": [
       "3.05733333333333"
      ],
      "text/plain": [
       "[1] 3.057333"
      ]
     },
     "metadata": {},
     "output_type": "display_data"
    }
   ],
   "source": [
    "mean(iris$Sepal.Width)"
   ]
  },
  {
   "cell_type": "code",
   "execution_count": 133,
   "metadata": {
    "graffitiCellId": "id_88a3fu7"
   },
   "outputs": [
    {
     "data": {
      "text/html": [
       "3"
      ],
      "text/latex": [
       "3"
      ],
      "text/markdown": [
       "3"
      ],
      "text/plain": [
       "[1] 3"
      ]
     },
     "metadata": {},
     "output_type": "display_data"
    }
   ],
   "source": [
    "median(iris$Sepal.Width)"
   ]
  },
  {
   "cell_type": "code",
   "execution_count": 134,
   "metadata": {
    "graffitiCellId": "id_sdipkvd"
   },
   "outputs": [
    {
     "data": {
      "text/html": [
       "0.435866284936698"
      ],
      "text/latex": [
       "0.435866284936698"
      ],
      "text/markdown": [
       "0.435866284936698"
      ],
      "text/plain": [
       "[1] 0.4358663"
      ]
     },
     "metadata": {},
     "output_type": "display_data"
    }
   ],
   "source": [
    "sd(iris$Sepal.Width)"
   ]
  },
  {
   "cell_type": "code",
   "execution_count": 135,
   "metadata": {
    "graffitiCellId": "id_6qxf2fm"
   },
   "outputs": [],
   "source": [
    "virginicas = subset(iris, Species=='virginica')"
   ]
  },
  {
   "cell_type": "code",
   "execution_count": 136,
   "metadata": {
    "graffitiCellId": "id_z601ddp"
   },
   "outputs": [
    {
     "data": {
      "text/html": [
       "<ol class=list-inline>\n",
       "\t<li>50</li>\n",
       "\t<li>5</li>\n",
       "</ol>\n"
      ],
      "text/latex": [
       "\\begin{enumerate*}\n",
       "\\item 50\n",
       "\\item 5\n",
       "\\end{enumerate*}\n"
      ],
      "text/markdown": [
       "1. 50\n",
       "2. 5\n",
       "\n",
       "\n"
      ],
      "text/plain": [
       "[1] 50  5"
      ]
     },
     "metadata": {},
     "output_type": "display_data"
    }
   ],
   "source": [
    "dim(virginicas)"
   ]
  },
  {
   "cell_type": "code",
   "execution_count": 137,
   "metadata": {
    "graffitiCellId": "id_mi2vlx8"
   },
   "outputs": [
    {
     "data": {
      "text/html": [
       "<ol class=list-inline>\n",
       "\t<li>150</li>\n",
       "\t<li>5</li>\n",
       "</ol>\n"
      ],
      "text/latex": [
       "\\begin{enumerate*}\n",
       "\\item 150\n",
       "\\item 5\n",
       "\\end{enumerate*}\n"
      ],
      "text/markdown": [
       "1. 150\n",
       "2. 5\n",
       "\n",
       "\n"
      ],
      "text/plain": [
       "[1] 150   5"
      ]
     },
     "metadata": {},
     "output_type": "display_data"
    }
   ],
   "source": [
    "dim(iris)"
   ]
  },
  {
   "cell_type": "code",
   "execution_count": 149,
   "metadata": {
    "graffitiCellId": "id_fhxne13"
   },
   "outputs": [
    {
     "data": {
      "text/html": [
       "<table>\n",
       "<thead><tr><th></th><th scope=col>Sepal.Length</th><th scope=col>Sepal.Width</th><th scope=col>Petal.Length</th><th scope=col>Petal.Width</th><th scope=col>Species</th></tr></thead>\n",
       "<tbody>\n",
       "\t<tr><th scope=row>101</th><td>6.3      </td><td>3.3      </td><td>6.0      </td><td>2.5      </td><td>virginica</td></tr>\n",
       "\t<tr><th scope=row>102</th><td>5.8      </td><td>2.7      </td><td>5.1      </td><td>1.9      </td><td>virginica</td></tr>\n",
       "\t<tr><th scope=row>103</th><td>7.1      </td><td>3.0      </td><td>5.9      </td><td>2.1      </td><td>virginica</td></tr>\n",
       "\t<tr><th scope=row>104</th><td>6.3      </td><td>2.9      </td><td>5.6      </td><td>1.8      </td><td>virginica</td></tr>\n",
       "\t<tr><th scope=row>105</th><td>6.5      </td><td>3.0      </td><td>5.8      </td><td>2.2      </td><td>virginica</td></tr>\n",
       "\t<tr><th scope=row>106</th><td>7.6      </td><td>3.0      </td><td>6.6      </td><td>2.1      </td><td>virginica</td></tr>\n",
       "\t<tr><th scope=row>108</th><td>7.3      </td><td>2.9      </td><td>6.3      </td><td>1.8      </td><td>virginica</td></tr>\n",
       "\t<tr><th scope=row>109</th><td>6.7      </td><td>2.5      </td><td>5.8      </td><td>1.8      </td><td>virginica</td></tr>\n",
       "\t<tr><th scope=row>110</th><td>7.2      </td><td>3.6      </td><td>6.1      </td><td>2.5      </td><td>virginica</td></tr>\n",
       "\t<tr><th scope=row>111</th><td>6.5      </td><td>3.2      </td><td>5.1      </td><td>2.0      </td><td>virginica</td></tr>\n",
       "\t<tr><th scope=row>112</th><td>6.4      </td><td>2.7      </td><td>5.3      </td><td>1.9      </td><td>virginica</td></tr>\n",
       "\t<tr><th scope=row>113</th><td>6.8      </td><td>3.0      </td><td>5.5      </td><td>2.1      </td><td>virginica</td></tr>\n",
       "\t<tr><th scope=row>115</th><td>5.8      </td><td>2.8      </td><td>5.1      </td><td>2.4      </td><td>virginica</td></tr>\n",
       "\t<tr><th scope=row>116</th><td>6.4      </td><td>3.2      </td><td>5.3      </td><td>2.3      </td><td>virginica</td></tr>\n",
       "\t<tr><th scope=row>117</th><td>6.5      </td><td>3.0      </td><td>5.5      </td><td>1.8      </td><td>virginica</td></tr>\n",
       "\t<tr><th scope=row>118</th><td>7.7      </td><td>3.8      </td><td>6.7      </td><td>2.2      </td><td>virginica</td></tr>\n",
       "\t<tr><th scope=row>119</th><td>7.7      </td><td>2.6      </td><td>6.9      </td><td>2.3      </td><td>virginica</td></tr>\n",
       "\t<tr><th scope=row>121</th><td>6.9      </td><td>3.2      </td><td>5.7      </td><td>2.3      </td><td>virginica</td></tr>\n",
       "\t<tr><th scope=row>123</th><td>7.7      </td><td>2.8      </td><td>6.7      </td><td>2.0      </td><td>virginica</td></tr>\n",
       "\t<tr><th scope=row>125</th><td>6.7      </td><td>3.3      </td><td>5.7      </td><td>2.1      </td><td>virginica</td></tr>\n",
       "\t<tr><th scope=row>126</th><td>7.2      </td><td>3.2      </td><td>6.0      </td><td>1.8      </td><td>virginica</td></tr>\n",
       "\t<tr><th scope=row>129</th><td>6.4      </td><td>2.8      </td><td>5.6      </td><td>2.1      </td><td>virginica</td></tr>\n",
       "\t<tr><th scope=row>130</th><td>7.2      </td><td>3.0      </td><td>5.8      </td><td>1.6      </td><td>virginica</td></tr>\n",
       "\t<tr><th scope=row>131</th><td>7.4      </td><td>2.8      </td><td>6.1      </td><td>1.9      </td><td>virginica</td></tr>\n",
       "\t<tr><th scope=row>132</th><td>7.9      </td><td>3.8      </td><td>6.4      </td><td>2.0      </td><td>virginica</td></tr>\n",
       "\t<tr><th scope=row>133</th><td>6.4      </td><td>2.8      </td><td>5.6      </td><td>2.2      </td><td>virginica</td></tr>\n",
       "\t<tr><th scope=row>134</th><td>6.3      </td><td>2.8      </td><td>5.1      </td><td>1.5      </td><td>virginica</td></tr>\n",
       "\t<tr><th scope=row>135</th><td>6.1      </td><td>2.6      </td><td>5.6      </td><td>1.4      </td><td>virginica</td></tr>\n",
       "\t<tr><th scope=row>136</th><td>7.7      </td><td>3.0      </td><td>6.1      </td><td>2.3      </td><td>virginica</td></tr>\n",
       "\t<tr><th scope=row>137</th><td>6.3      </td><td>3.4      </td><td>5.6      </td><td>2.4      </td><td>virginica</td></tr>\n",
       "\t<tr><th scope=row>138</th><td>6.4      </td><td>3.1      </td><td>5.5      </td><td>1.8      </td><td>virginica</td></tr>\n",
       "\t<tr><th scope=row>140</th><td>6.9      </td><td>3.1      </td><td>5.4      </td><td>2.1      </td><td>virginica</td></tr>\n",
       "\t<tr><th scope=row>141</th><td>6.7      </td><td>3.1      </td><td>5.6      </td><td>2.4      </td><td>virginica</td></tr>\n",
       "\t<tr><th scope=row>142</th><td>6.9      </td><td>3.1      </td><td>5.1      </td><td>2.3      </td><td>virginica</td></tr>\n",
       "\t<tr><th scope=row>143</th><td>5.8      </td><td>2.7      </td><td>5.1      </td><td>1.9      </td><td>virginica</td></tr>\n",
       "\t<tr><th scope=row>144</th><td>6.8      </td><td>3.2      </td><td>5.9      </td><td>2.3      </td><td>virginica</td></tr>\n",
       "\t<tr><th scope=row>145</th><td>6.7      </td><td>3.3      </td><td>5.7      </td><td>2.5      </td><td>virginica</td></tr>\n",
       "\t<tr><th scope=row>146</th><td>6.7      </td><td>3.0      </td><td>5.2      </td><td>2.3      </td><td>virginica</td></tr>\n",
       "\t<tr><th scope=row>148</th><td>6.5      </td><td>3.0      </td><td>5.2      </td><td>2.0      </td><td>virginica</td></tr>\n",
       "\t<tr><th scope=row>149</th><td>6.2      </td><td>3.4      </td><td>5.4      </td><td>2.3      </td><td>virginica</td></tr>\n",
       "\t<tr><th scope=row>150</th><td>5.9      </td><td>3.0      </td><td>5.1      </td><td>1.8      </td><td>virginica</td></tr>\n",
       "</tbody>\n",
       "</table>\n"
      ],
      "text/latex": [
       "\\begin{tabular}{r|lllll}\n",
       "  & Sepal.Length & Sepal.Width & Petal.Length & Petal.Width & Species\\\\\n",
       "\\hline\n",
       "\t101 & 6.3       & 3.3       & 6.0       & 2.5       & virginica\\\\\n",
       "\t102 & 5.8       & 2.7       & 5.1       & 1.9       & virginica\\\\\n",
       "\t103 & 7.1       & 3.0       & 5.9       & 2.1       & virginica\\\\\n",
       "\t104 & 6.3       & 2.9       & 5.6       & 1.8       & virginica\\\\\n",
       "\t105 & 6.5       & 3.0       & 5.8       & 2.2       & virginica\\\\\n",
       "\t106 & 7.6       & 3.0       & 6.6       & 2.1       & virginica\\\\\n",
       "\t108 & 7.3       & 2.9       & 6.3       & 1.8       & virginica\\\\\n",
       "\t109 & 6.7       & 2.5       & 5.8       & 1.8       & virginica\\\\\n",
       "\t110 & 7.2       & 3.6       & 6.1       & 2.5       & virginica\\\\\n",
       "\t111 & 6.5       & 3.2       & 5.1       & 2.0       & virginica\\\\\n",
       "\t112 & 6.4       & 2.7       & 5.3       & 1.9       & virginica\\\\\n",
       "\t113 & 6.8       & 3.0       & 5.5       & 2.1       & virginica\\\\\n",
       "\t115 & 5.8       & 2.8       & 5.1       & 2.4       & virginica\\\\\n",
       "\t116 & 6.4       & 3.2       & 5.3       & 2.3       & virginica\\\\\n",
       "\t117 & 6.5       & 3.0       & 5.5       & 1.8       & virginica\\\\\n",
       "\t118 & 7.7       & 3.8       & 6.7       & 2.2       & virginica\\\\\n",
       "\t119 & 7.7       & 2.6       & 6.9       & 2.3       & virginica\\\\\n",
       "\t121 & 6.9       & 3.2       & 5.7       & 2.3       & virginica\\\\\n",
       "\t123 & 7.7       & 2.8       & 6.7       & 2.0       & virginica\\\\\n",
       "\t125 & 6.7       & 3.3       & 5.7       & 2.1       & virginica\\\\\n",
       "\t126 & 7.2       & 3.2       & 6.0       & 1.8       & virginica\\\\\n",
       "\t129 & 6.4       & 2.8       & 5.6       & 2.1       & virginica\\\\\n",
       "\t130 & 7.2       & 3.0       & 5.8       & 1.6       & virginica\\\\\n",
       "\t131 & 7.4       & 2.8       & 6.1       & 1.9       & virginica\\\\\n",
       "\t132 & 7.9       & 3.8       & 6.4       & 2.0       & virginica\\\\\n",
       "\t133 & 6.4       & 2.8       & 5.6       & 2.2       & virginica\\\\\n",
       "\t134 & 6.3       & 2.8       & 5.1       & 1.5       & virginica\\\\\n",
       "\t135 & 6.1       & 2.6       & 5.6       & 1.4       & virginica\\\\\n",
       "\t136 & 7.7       & 3.0       & 6.1       & 2.3       & virginica\\\\\n",
       "\t137 & 6.3       & 3.4       & 5.6       & 2.4       & virginica\\\\\n",
       "\t138 & 6.4       & 3.1       & 5.5       & 1.8       & virginica\\\\\n",
       "\t140 & 6.9       & 3.1       & 5.4       & 2.1       & virginica\\\\\n",
       "\t141 & 6.7       & 3.1       & 5.6       & 2.4       & virginica\\\\\n",
       "\t142 & 6.9       & 3.1       & 5.1       & 2.3       & virginica\\\\\n",
       "\t143 & 5.8       & 2.7       & 5.1       & 1.9       & virginica\\\\\n",
       "\t144 & 6.8       & 3.2       & 5.9       & 2.3       & virginica\\\\\n",
       "\t145 & 6.7       & 3.3       & 5.7       & 2.5       & virginica\\\\\n",
       "\t146 & 6.7       & 3.0       & 5.2       & 2.3       & virginica\\\\\n",
       "\t148 & 6.5       & 3.0       & 5.2       & 2.0       & virginica\\\\\n",
       "\t149 & 6.2       & 3.4       & 5.4       & 2.3       & virginica\\\\\n",
       "\t150 & 5.9       & 3.0       & 5.1       & 1.8       & virginica\\\\\n",
       "\\end{tabular}\n"
      ],
      "text/markdown": [
       "\n",
       "| <!--/--> | Sepal.Length | Sepal.Width | Petal.Length | Petal.Width | Species |\n",
       "|---|---|---|---|---|---|\n",
       "| 101 | 6.3       | 3.3       | 6.0       | 2.5       | virginica |\n",
       "| 102 | 5.8       | 2.7       | 5.1       | 1.9       | virginica |\n",
       "| 103 | 7.1       | 3.0       | 5.9       | 2.1       | virginica |\n",
       "| 104 | 6.3       | 2.9       | 5.6       | 1.8       | virginica |\n",
       "| 105 | 6.5       | 3.0       | 5.8       | 2.2       | virginica |\n",
       "| 106 | 7.6       | 3.0       | 6.6       | 2.1       | virginica |\n",
       "| 108 | 7.3       | 2.9       | 6.3       | 1.8       | virginica |\n",
       "| 109 | 6.7       | 2.5       | 5.8       | 1.8       | virginica |\n",
       "| 110 | 7.2       | 3.6       | 6.1       | 2.5       | virginica |\n",
       "| 111 | 6.5       | 3.2       | 5.1       | 2.0       | virginica |\n",
       "| 112 | 6.4       | 2.7       | 5.3       | 1.9       | virginica |\n",
       "| 113 | 6.8       | 3.0       | 5.5       | 2.1       | virginica |\n",
       "| 115 | 5.8       | 2.8       | 5.1       | 2.4       | virginica |\n",
       "| 116 | 6.4       | 3.2       | 5.3       | 2.3       | virginica |\n",
       "| 117 | 6.5       | 3.0       | 5.5       | 1.8       | virginica |\n",
       "| 118 | 7.7       | 3.8       | 6.7       | 2.2       | virginica |\n",
       "| 119 | 7.7       | 2.6       | 6.9       | 2.3       | virginica |\n",
       "| 121 | 6.9       | 3.2       | 5.7       | 2.3       | virginica |\n",
       "| 123 | 7.7       | 2.8       | 6.7       | 2.0       | virginica |\n",
       "| 125 | 6.7       | 3.3       | 5.7       | 2.1       | virginica |\n",
       "| 126 | 7.2       | 3.2       | 6.0       | 1.8       | virginica |\n",
       "| 129 | 6.4       | 2.8       | 5.6       | 2.1       | virginica |\n",
       "| 130 | 7.2       | 3.0       | 5.8       | 1.6       | virginica |\n",
       "| 131 | 7.4       | 2.8       | 6.1       | 1.9       | virginica |\n",
       "| 132 | 7.9       | 3.8       | 6.4       | 2.0       | virginica |\n",
       "| 133 | 6.4       | 2.8       | 5.6       | 2.2       | virginica |\n",
       "| 134 | 6.3       | 2.8       | 5.1       | 1.5       | virginica |\n",
       "| 135 | 6.1       | 2.6       | 5.6       | 1.4       | virginica |\n",
       "| 136 | 7.7       | 3.0       | 6.1       | 2.3       | virginica |\n",
       "| 137 | 6.3       | 3.4       | 5.6       | 2.4       | virginica |\n",
       "| 138 | 6.4       | 3.1       | 5.5       | 1.8       | virginica |\n",
       "| 140 | 6.9       | 3.1       | 5.4       | 2.1       | virginica |\n",
       "| 141 | 6.7       | 3.1       | 5.6       | 2.4       | virginica |\n",
       "| 142 | 6.9       | 3.1       | 5.1       | 2.3       | virginica |\n",
       "| 143 | 5.8       | 2.7       | 5.1       | 1.9       | virginica |\n",
       "| 144 | 6.8       | 3.2       | 5.9       | 2.3       | virginica |\n",
       "| 145 | 6.7       | 3.3       | 5.7       | 2.5       | virginica |\n",
       "| 146 | 6.7       | 3.0       | 5.2       | 2.3       | virginica |\n",
       "| 148 | 6.5       | 3.0       | 5.2       | 2.0       | virginica |\n",
       "| 149 | 6.2       | 3.4       | 5.4       | 2.3       | virginica |\n",
       "| 150 | 5.9       | 3.0       | 5.1       | 1.8       | virginica |\n",
       "\n"
      ],
      "text/plain": [
       "    Sepal.Length Sepal.Width Petal.Length Petal.Width Species  \n",
       "101 6.3          3.3         6.0          2.5         virginica\n",
       "102 5.8          2.7         5.1          1.9         virginica\n",
       "103 7.1          3.0         5.9          2.1         virginica\n",
       "104 6.3          2.9         5.6          1.8         virginica\n",
       "105 6.5          3.0         5.8          2.2         virginica\n",
       "106 7.6          3.0         6.6          2.1         virginica\n",
       "108 7.3          2.9         6.3          1.8         virginica\n",
       "109 6.7          2.5         5.8          1.8         virginica\n",
       "110 7.2          3.6         6.1          2.5         virginica\n",
       "111 6.5          3.2         5.1          2.0         virginica\n",
       "112 6.4          2.7         5.3          1.9         virginica\n",
       "113 6.8          3.0         5.5          2.1         virginica\n",
       "115 5.8          2.8         5.1          2.4         virginica\n",
       "116 6.4          3.2         5.3          2.3         virginica\n",
       "117 6.5          3.0         5.5          1.8         virginica\n",
       "118 7.7          3.8         6.7          2.2         virginica\n",
       "119 7.7          2.6         6.9          2.3         virginica\n",
       "121 6.9          3.2         5.7          2.3         virginica\n",
       "123 7.7          2.8         6.7          2.0         virginica\n",
       "125 6.7          3.3         5.7          2.1         virginica\n",
       "126 7.2          3.2         6.0          1.8         virginica\n",
       "129 6.4          2.8         5.6          2.1         virginica\n",
       "130 7.2          3.0         5.8          1.6         virginica\n",
       "131 7.4          2.8         6.1          1.9         virginica\n",
       "132 7.9          3.8         6.4          2.0         virginica\n",
       "133 6.4          2.8         5.6          2.2         virginica\n",
       "134 6.3          2.8         5.1          1.5         virginica\n",
       "135 6.1          2.6         5.6          1.4         virginica\n",
       "136 7.7          3.0         6.1          2.3         virginica\n",
       "137 6.3          3.4         5.6          2.4         virginica\n",
       "138 6.4          3.1         5.5          1.8         virginica\n",
       "140 6.9          3.1         5.4          2.1         virginica\n",
       "141 6.7          3.1         5.6          2.4         virginica\n",
       "142 6.9          3.1         5.1          2.3         virginica\n",
       "143 5.8          2.7         5.1          1.9         virginica\n",
       "144 6.8          3.2         5.9          2.3         virginica\n",
       "145 6.7          3.3         5.7          2.5         virginica\n",
       "146 6.7          3.0         5.2          2.3         virginica\n",
       "148 6.5          3.0         5.2          2.0         virginica\n",
       "149 6.2          3.4         5.4          2.3         virginica\n",
       "150 5.9          3.0         5.1          1.8         virginica"
      ]
     },
     "metadata": {},
     "output_type": "display_data"
    }
   ],
   "source": [
    "subset(iris, Species=='virginica' & Petal.Length > 5)"
   ]
  },
  {
   "cell_type": "code",
   "execution_count": 139,
   "metadata": {
    "graffitiCellId": "id_etksock"
   },
   "outputs": [
    {
     "data": {
      "text/html": [
       "<ol class=list-inline>\n",
       "\t<li>41</li>\n",
       "\t<li>5</li>\n",
       "</ol>\n"
      ],
      "text/latex": [
       "\\begin{enumerate*}\n",
       "\\item 41\n",
       "\\item 5\n",
       "\\end{enumerate*}\n"
      ],
      "text/markdown": [
       "1. 41\n",
       "2. 5\n",
       "\n",
       "\n"
      ],
      "text/plain": [
       "[1] 41  5"
      ]
     },
     "metadata": {},
     "output_type": "display_data"
    }
   ],
   "source": [
    "dim(subset(iris, Species=='virginica' & Petal.Length > 5))"
   ]
  },
  {
   "cell_type": "code",
   "execution_count": 140,
   "metadata": {
    "graffitiCellId": "id_0gu0t5i"
   },
   "outputs": [
    {
     "data": {
      "text/plain": [
       "  Sepal.Length    Sepal.Width     Petal.Length    Petal.Width   \n",
       " Min.   :4.300   Min.   :2.000   Min.   :1.000   Min.   :0.100  \n",
       " 1st Qu.:5.100   1st Qu.:2.800   1st Qu.:1.600   1st Qu.:0.300  \n",
       " Median :5.800   Median :3.000   Median :4.350   Median :1.300  \n",
       " Mean   :5.843   Mean   :3.057   Mean   :3.758   Mean   :1.199  \n",
       " 3rd Qu.:6.400   3rd Qu.:3.300   3rd Qu.:5.100   3rd Qu.:1.800  \n",
       " Max.   :7.900   Max.   :4.400   Max.   :6.900   Max.   :2.500  \n",
       "       Species  \n",
       " setosa    :50  \n",
       " versicolor:50  \n",
       " virginica :50  \n",
       "                \n",
       "                \n",
       "                "
      ]
     },
     "metadata": {},
     "output_type": "display_data"
    }
   ],
   "source": [
    "summary(iris)"
   ]
  },
  {
   "cell_type": "code",
   "execution_count": 141,
   "metadata": {},
   "outputs": [
    {
     "data": {
      "text/html": [
       "<table>\n",
       "<thead><tr><th scope=col>Petal.Length</th><th scope=col>Petal.Width</th></tr></thead>\n",
       "<tbody>\n",
       "\t<tr><td>1.4</td><td>0.2</td></tr>\n",
       "</tbody>\n",
       "</table>\n"
      ],
      "text/latex": [
       "\\begin{tabular}{r|ll}\n",
       " Petal.Length & Petal.Width\\\\\n",
       "\\hline\n",
       "\t 1.4 & 0.2\\\\\n",
       "\\end{tabular}\n"
      ],
      "text/markdown": [
       "\n",
       "| Petal.Length | Petal.Width |\n",
       "|---|---|\n",
       "| 1.4 | 0.2 |\n",
       "\n"
      ],
      "text/plain": [
       "  Petal.Length Petal.Width\n",
       "1 1.4          0.2        "
      ]
     },
     "metadata": {},
     "output_type": "display_data"
    }
   ],
   "source": [
    "iris[1, 3:4]"
   ]
  },
  {
   "cell_type": "code",
   "execution_count": 150,
   "metadata": {},
   "outputs": [
    {
     "data": {
      "text/html": [
       "<ol class=list-inline>\n",
       "\t<li>'Sepal.Length'</li>\n",
       "\t<li>'Sepal.Width'</li>\n",
       "\t<li>'Petal.Length'</li>\n",
       "\t<li>'Petal.Width'</li>\n",
       "\t<li>'Species'</li>\n",
       "</ol>\n"
      ],
      "text/latex": [
       "\\begin{enumerate*}\n",
       "\\item 'Sepal.Length'\n",
       "\\item 'Sepal.Width'\n",
       "\\item 'Petal.Length'\n",
       "\\item 'Petal.Width'\n",
       "\\item 'Species'\n",
       "\\end{enumerate*}\n"
      ],
      "text/markdown": [
       "1. 'Sepal.Length'\n",
       "2. 'Sepal.Width'\n",
       "3. 'Petal.Length'\n",
       "4. 'Petal.Width'\n",
       "5. 'Species'\n",
       "\n",
       "\n"
      ],
      "text/plain": [
       "[1] \"Sepal.Length\" \"Sepal.Width\"  \"Petal.Length\" \"Petal.Width\"  \"Species\"     "
      ]
     },
     "metadata": {},
     "output_type": "display_data"
    }
   ],
   "source": [
    "names(iris)"
   ]
  },
  {
   "cell_type": "code",
   "execution_count": 151,
   "metadata": {},
   "outputs": [
    {
     "data": {
      "text/html": [
       "'data.frame'"
      ],
      "text/latex": [
       "'data.frame'"
      ],
      "text/markdown": [
       "'data.frame'"
      ],
      "text/plain": [
       "[1] \"data.frame\""
      ]
     },
     "metadata": {},
     "output_type": "display_data"
    }
   ],
   "source": [
    "class(iris)"
   ]
  },
  {
   "cell_type": "code",
   "execution_count": 152,
   "metadata": {},
   "outputs": [
    {
     "data": {
      "text/html": [
       "<dl class=dl-horizontal>\n",
       "\t<dt>Sepal.Length</dt>\n",
       "\t\t<dd>5.84333333333333</dd>\n",
       "\t<dt>Sepal.Width</dt>\n",
       "\t\t<dd>3.05733333333333</dd>\n",
       "\t<dt>Petal.Length</dt>\n",
       "\t\t<dd>3.758</dd>\n",
       "\t<dt>Petal.Width</dt>\n",
       "\t\t<dd>1.19933333333333</dd>\n",
       "</dl>\n"
      ],
      "text/latex": [
       "\\begin{description*}\n",
       "\\item[Sepal.Length] 5.84333333333333\n",
       "\\item[Sepal.Width] 3.05733333333333\n",
       "\\item[Petal.Length] 3.758\n",
       "\\item[Petal.Width] 1.19933333333333\n",
       "\\end{description*}\n"
      ],
      "text/markdown": [
       "Sepal.Length\n",
       ":   5.84333333333333Sepal.Width\n",
       ":   3.05733333333333Petal.Length\n",
       ":   3.758Petal.Width\n",
       ":   1.19933333333333\n",
       "\n"
      ],
      "text/plain": [
       "Sepal.Length  Sepal.Width Petal.Length  Petal.Width \n",
       "    5.843333     3.057333     3.758000     1.199333 "
      ]
     },
     "metadata": {},
     "output_type": "display_data"
    }
   ],
   "source": [
    "colMeans(iris[, 1:4])"
   ]
  },
  {
   "cell_type": "code",
   "execution_count": 153,
   "metadata": {},
   "outputs": [
    {
     "data": {
      "text/html": [
       "<table>\n",
       "<thead><tr><th></th><th scope=col>Petal.Length</th><th scope=col>Petal.Width</th></tr></thead>\n",
       "<tbody>\n",
       "\t<tr><th scope=row>1</th><td>1.4</td><td>0.2</td></tr>\n",
       "\t<tr><th scope=row>3</th><td>1.3</td><td>0.2</td></tr>\n",
       "\t<tr><th scope=row>5</th><td>1.4</td><td>0.2</td></tr>\n",
       "</tbody>\n",
       "</table>\n"
      ],
      "text/latex": [
       "\\begin{tabular}{r|ll}\n",
       "  & Petal.Length & Petal.Width\\\\\n",
       "\\hline\n",
       "\t1 & 1.4 & 0.2\\\\\n",
       "\t3 & 1.3 & 0.2\\\\\n",
       "\t5 & 1.4 & 0.2\\\\\n",
       "\\end{tabular}\n"
      ],
      "text/markdown": [
       "\n",
       "| <!--/--> | Petal.Length | Petal.Width |\n",
       "|---|---|---|\n",
       "| 1 | 1.4 | 0.2 |\n",
       "| 3 | 1.3 | 0.2 |\n",
       "| 5 | 1.4 | 0.2 |\n",
       "\n"
      ],
      "text/plain": [
       "  Petal.Length Petal.Width\n",
       "1 1.4          0.2        \n",
       "3 1.3          0.2        \n",
       "5 1.4          0.2        "
      ]
     },
     "metadata": {},
     "output_type": "display_data"
    }
   ],
   "source": [
    "iris[c(1,3,5), c(3,4)]"
   ]
  },
  {
   "cell_type": "markdown",
   "metadata": {},
   "source": [
    "<a id='chapter2'></a>\n",
    "## Control Flow and Functions\n",
    "\n",
    "- [If/Else Statement](#if_else)\n",
    "- [Loops](#loop)\n",
    "- [Functions](#function)"
   ]
  },
  {
   "cell_type": "markdown",
   "metadata": {},
   "source": [
    "<a id='if_else'></a>\n",
    "### if ... else statement\\"
   ]
  },
  {
   "cell_type": "markdown",
   "metadata": {},
   "source": [
    "**Example 1**"
   ]
  },
  {
   "cell_type": "code",
   "execution_count": 181,
   "metadata": {},
   "outputs": [
    {
     "name": "stdout",
     "output_type": "stream",
     "text": [
      "[1] 2\n"
     ]
    }
   ],
   "source": [
    "a = 10; b = 10; c = 1\n",
    "if (a < b) {\n",
    "    d = 1\n",
    "} else if (a == b) {\n",
    "    d = 2\n",
    "} else {\n",
    "    d = 3\n",
    "}\n",
    "\n",
    "print(d)"
   ]
  },
  {
   "cell_type": "markdown",
   "metadata": {},
   "source": [
    "**Example 2**\n",
    "\n",
    "Suppose you are heating the oven before bakery. The temperature of the oven must be set at 425 degrees. If it's below 425 degrees, it will tell you `oven is not hot enough`; if it is above 425 degrees, it will tell you `oven is too hot`; it will tell you `oven is just right` exactly when it is right just 425 degrees. "
   ]
  },
  {
   "cell_type": "code",
   "execution_count": 189,
   "metadata": {},
   "outputs": [
    {
     "name": "stdout",
     "output_type": "stream",
     "text": [
      "[1] \"oven is just right\"\n"
     ]
    }
   ],
   "source": [
    "oven.temp = 425\n",
    "is.it.ready.result1 = \"oven is just right\"\n",
    "is.it.ready.result2 = \"oven is too hot\"\n",
    "is.it.ready.result3 = \"oven is not hot enough\"\n",
    "\n",
    "if (oven.temp == 425){\n",
    "    print(is.it.ready.result1)\n",
    "} else if (oven.temp > 425) {\n",
    "    print(is.it.ready.result2)\n",
    "} else {\n",
    "    print(is.it.ready.result3)\n",
    "}"
   ]
  },
  {
   "cell_type": "markdown",
   "metadata": {},
   "source": [
    "**Example 3**\n",
    "\n",
    "Using the `where.are.you` variable: if this variable is `\"here\"`, print `\"Come on in\"`. If the variable is `\"on my way\"`, print `\"Hurry Up!\"`. If the variable is `\"I got lost\"`, print `\"Oh no! You're lost?!\"`."
   ]
  },
  {
   "cell_type": "code",
   "execution_count": 191,
   "metadata": {},
   "outputs": [
    {
     "name": "stdout",
     "output_type": "stream",
     "text": [
      "[1] \"Come on in\"\n"
     ]
    }
   ],
   "source": [
    "where.are.you1 = 'here'\n",
    "where.are.you2 = 'on my way'\n",
    "where.are.you3 = 'I got lost'\n",
    "\n",
    "result1 = \"Come on in\"\n",
    "result2 = 'Hurry Up!'\n",
    "result3 = \"Oh no! You're lost?!\"\n",
    "\n",
    "where.are.you = 'here'\n",
    "\n",
    "if (where.are.you == where.are.you1){\n",
    "    print(result1)\n",
    "} else if (where.are.you == where.are.you2) {\n",
    "    print(result2)\n",
    "} else {\n",
    "    print(result3)\n",
    "}"
   ]
  },
  {
   "cell_type": "markdown",
   "metadata": {},
   "source": [
    "**Example 4**\n",
    "\n",
    "Use modulars to print if a number stored in the variable `y` is divisible by 4.  For example, imagine `y = 12`. Since 12 is divisible by 4, you would print `\"y is divisible by 4\"`. If instead `y=5`, 5 is not divisible by 4 without a remainder, you would print `\"y is not divisible by 4\"`."
   ]
  },
  {
   "cell_type": "code",
   "execution_count": 193,
   "metadata": {},
   "outputs": [
    {
     "name": "stdout",
     "output_type": "stream",
     "text": [
      "[1] \"y is divisible by 4\"\n"
     ]
    }
   ],
   "source": [
    "# print if y is divisible by 4 or not\n",
    "y = 20  # some number\n",
    "\n",
    "# write your solution code here:\n",
    "res1 = 'y is divisible by 4'\n",
    "res2 = 'y is not divisible by 4'\n",
    "\n",
    "\n",
    "if (y %% 4 == 0) {\n",
    "    print(res1)\n",
    "} else {\n",
    "    print(res2)\n",
    "}"
   ]
  },
  {
   "cell_type": "code",
   "execution_count": null,
   "metadata": {},
   "outputs": [],
   "source": []
  },
  {
   "cell_type": "markdown",
   "metadata": {},
   "source": [
    "<a id='loop'></a>\n",
    "### Loops"
   ]
  },
  {
   "cell_type": "code",
   "execution_count": null,
   "metadata": {},
   "outputs": [],
   "source": []
  },
  {
   "cell_type": "code",
   "execution_count": null,
   "metadata": {},
   "outputs": [],
   "source": []
  },
  {
   "cell_type": "markdown",
   "metadata": {},
   "source": [
    "<a id='function'></a>\n",
    "### Functions"
   ]
  },
  {
   "cell_type": "code",
   "execution_count": null,
   "metadata": {},
   "outputs": [],
   "source": []
  },
  {
   "cell_type": "code",
   "execution_count": null,
   "metadata": {},
   "outputs": [],
   "source": []
  },
  {
   "cell_type": "code",
   "execution_count": null,
   "metadata": {},
   "outputs": [],
   "source": []
  },
  {
   "cell_type": "code",
   "execution_count": null,
   "metadata": {},
   "outputs": [],
   "source": []
  },
  {
   "cell_type": "code",
   "execution_count": null,
   "metadata": {},
   "outputs": [],
   "source": []
  },
  {
   "cell_type": "code",
   "execution_count": null,
   "metadata": {},
   "outputs": [],
   "source": []
  },
  {
   "cell_type": "markdown",
   "metadata": {},
   "source": [
    "<a id='chapter3'></a>\n",
    "## Data Visualization and EDA"
   ]
  },
  {
   "cell_type": "code",
   "execution_count": null,
   "metadata": {},
   "outputs": [],
   "source": []
  }
 ],
 "metadata": {
  "kernelspec": {
   "display_name": "R [conda env:with_R]",
   "language": "R",
   "name": "conda-env-with_R-r"
  },
  "language_info": {
   "codemirror_mode": "r",
   "file_extension": ".r",
   "mimetype": "text/x-r-source",
   "name": "R",
   "pygments_lexer": "r",
   "version": "3.6.1"
  }
 },
 "nbformat": 4,
 "nbformat_minor": 4
}
