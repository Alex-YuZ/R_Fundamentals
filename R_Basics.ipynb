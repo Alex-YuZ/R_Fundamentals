{
 "cells": [
  {
   "cell_type": "code",
   "execution_count": 1,
   "metadata": {},
   "outputs": [
    {
     "data": {
      "text/html": [
       "'/Users/alejandrosanz/Downloads/projects_on_GitHub/POC/R_Programming'"
      ],
      "text/latex": [
       "'/Users/alejandrosanz/Downloads/projects\\_on\\_GitHub/POC/R\\_Programming'"
      ],
      "text/markdown": [
       "'/Users/alejandrosanz/Downloads/projects_on_GitHub/POC/R_Programming'"
      ],
      "text/plain": [
       "[1] \"/Users/alejandrosanz/Downloads/projects_on_GitHub/POC/R_Programming\""
      ]
     },
     "metadata": {},
     "output_type": "display_data"
    }
   ],
   "source": [
    "getwd()"
   ]
  },
  {
   "cell_type": "code",
   "execution_count": null,
   "metadata": {},
   "outputs": [],
   "source": []
  }
 ],
 "metadata": {
  "kernelspec": {
   "display_name": "R [conda env:with_R]",
   "language": "R",
   "name": "conda-env-with_R-r"
  },
  "language_info": {
   "codemirror_mode": "r",
   "file_extension": ".r",
   "mimetype": "text/x-r-source",
   "name": "R",
   "pygments_lexer": "r",
   "version": "3.6.1"
  }
 },
 "nbformat": 4,
 "nbformat_minor": 4
}
